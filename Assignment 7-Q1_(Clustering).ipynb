{
 "cells": [
  {
   "cell_type": "markdown",
   "id": "2d76bc8c",
   "metadata": {},
   "source": [
    "# Problem statement :\n",
    "### Perform clustering (hierarchical,K means clustering and DBSCAN) for the airlines data to obtain optimum number of clusters. \n",
    "### Draw the inferences from the clusters obtained.\n",
    "### Dataset: EastWestAirlines.csv"
   ]
  },
  {
   "cell_type": "code",
   "execution_count": 14,
   "id": "d99d1f7a",
   "metadata": {
    "ExecuteTime": {
     "end_time": "2023-02-04T03:20:12.875696Z",
     "start_time": "2023-02-04T03:20:12.862512Z"
    }
   },
   "outputs": [],
   "source": [
    "# Importing Libraries\n",
    "import pandas as pd\n",
    "import numpy as np\n",
    "import matplotlib.pyplot as plt"
   ]
  },
  {
   "cell_type": "code",
   "execution_count": 15,
   "id": "a29e8b7a",
   "metadata": {
    "ExecuteTime": {
     "end_time": "2023-02-04T03:20:15.865644Z",
     "start_time": "2023-02-04T03:20:15.830525Z"
    }
   },
   "outputs": [
    {
     "data": {
      "text/html": [
       "<div>\n",
       "<style scoped>\n",
       "    .dataframe tbody tr th:only-of-type {\n",
       "        vertical-align: middle;\n",
       "    }\n",
       "\n",
       "    .dataframe tbody tr th {\n",
       "        vertical-align: top;\n",
       "    }\n",
       "\n",
       "    .dataframe thead th {\n",
       "        text-align: right;\n",
       "    }\n",
       "</style>\n",
       "<table border=\"1\" class=\"dataframe\">\n",
       "  <thead>\n",
       "    <tr style=\"text-align: right;\">\n",
       "      <th></th>\n",
       "      <th>ID#</th>\n",
       "      <th>Balance</th>\n",
       "      <th>Qual_miles</th>\n",
       "      <th>cc1_miles</th>\n",
       "      <th>cc2_miles</th>\n",
       "      <th>cc3_miles</th>\n",
       "      <th>Bonus_miles</th>\n",
       "      <th>Bonus_trans</th>\n",
       "      <th>Flight_miles_12mo</th>\n",
       "      <th>Flight_trans_12</th>\n",
       "      <th>Days_since_enroll</th>\n",
       "      <th>Award?</th>\n",
       "    </tr>\n",
       "  </thead>\n",
       "  <tbody>\n",
       "    <tr>\n",
       "      <th>0</th>\n",
       "      <td>1</td>\n",
       "      <td>28143</td>\n",
       "      <td>0</td>\n",
       "      <td>1</td>\n",
       "      <td>1</td>\n",
       "      <td>1</td>\n",
       "      <td>174</td>\n",
       "      <td>1</td>\n",
       "      <td>0</td>\n",
       "      <td>0</td>\n",
       "      <td>7000</td>\n",
       "      <td>0</td>\n",
       "    </tr>\n",
       "    <tr>\n",
       "      <th>1</th>\n",
       "      <td>2</td>\n",
       "      <td>19244</td>\n",
       "      <td>0</td>\n",
       "      <td>1</td>\n",
       "      <td>1</td>\n",
       "      <td>1</td>\n",
       "      <td>215</td>\n",
       "      <td>2</td>\n",
       "      <td>0</td>\n",
       "      <td>0</td>\n",
       "      <td>6968</td>\n",
       "      <td>0</td>\n",
       "    </tr>\n",
       "    <tr>\n",
       "      <th>2</th>\n",
       "      <td>3</td>\n",
       "      <td>41354</td>\n",
       "      <td>0</td>\n",
       "      <td>1</td>\n",
       "      <td>1</td>\n",
       "      <td>1</td>\n",
       "      <td>4123</td>\n",
       "      <td>4</td>\n",
       "      <td>0</td>\n",
       "      <td>0</td>\n",
       "      <td>7034</td>\n",
       "      <td>0</td>\n",
       "    </tr>\n",
       "    <tr>\n",
       "      <th>3</th>\n",
       "      <td>4</td>\n",
       "      <td>14776</td>\n",
       "      <td>0</td>\n",
       "      <td>1</td>\n",
       "      <td>1</td>\n",
       "      <td>1</td>\n",
       "      <td>500</td>\n",
       "      <td>1</td>\n",
       "      <td>0</td>\n",
       "      <td>0</td>\n",
       "      <td>6952</td>\n",
       "      <td>0</td>\n",
       "    </tr>\n",
       "    <tr>\n",
       "      <th>4</th>\n",
       "      <td>5</td>\n",
       "      <td>97752</td>\n",
       "      <td>0</td>\n",
       "      <td>4</td>\n",
       "      <td>1</td>\n",
       "      <td>1</td>\n",
       "      <td>43300</td>\n",
       "      <td>26</td>\n",
       "      <td>2077</td>\n",
       "      <td>4</td>\n",
       "      <td>6935</td>\n",
       "      <td>1</td>\n",
       "    </tr>\n",
       "    <tr>\n",
       "      <th>...</th>\n",
       "      <td>...</td>\n",
       "      <td>...</td>\n",
       "      <td>...</td>\n",
       "      <td>...</td>\n",
       "      <td>...</td>\n",
       "      <td>...</td>\n",
       "      <td>...</td>\n",
       "      <td>...</td>\n",
       "      <td>...</td>\n",
       "      <td>...</td>\n",
       "      <td>...</td>\n",
       "      <td>...</td>\n",
       "    </tr>\n",
       "    <tr>\n",
       "      <th>3994</th>\n",
       "      <td>4017</td>\n",
       "      <td>18476</td>\n",
       "      <td>0</td>\n",
       "      <td>1</td>\n",
       "      <td>1</td>\n",
       "      <td>1</td>\n",
       "      <td>8525</td>\n",
       "      <td>4</td>\n",
       "      <td>200</td>\n",
       "      <td>1</td>\n",
       "      <td>1403</td>\n",
       "      <td>1</td>\n",
       "    </tr>\n",
       "    <tr>\n",
       "      <th>3995</th>\n",
       "      <td>4018</td>\n",
       "      <td>64385</td>\n",
       "      <td>0</td>\n",
       "      <td>1</td>\n",
       "      <td>1</td>\n",
       "      <td>1</td>\n",
       "      <td>981</td>\n",
       "      <td>5</td>\n",
       "      <td>0</td>\n",
       "      <td>0</td>\n",
       "      <td>1395</td>\n",
       "      <td>1</td>\n",
       "    </tr>\n",
       "    <tr>\n",
       "      <th>3996</th>\n",
       "      <td>4019</td>\n",
       "      <td>73597</td>\n",
       "      <td>0</td>\n",
       "      <td>3</td>\n",
       "      <td>1</td>\n",
       "      <td>1</td>\n",
       "      <td>25447</td>\n",
       "      <td>8</td>\n",
       "      <td>0</td>\n",
       "      <td>0</td>\n",
       "      <td>1402</td>\n",
       "      <td>1</td>\n",
       "    </tr>\n",
       "    <tr>\n",
       "      <th>3997</th>\n",
       "      <td>4020</td>\n",
       "      <td>54899</td>\n",
       "      <td>0</td>\n",
       "      <td>1</td>\n",
       "      <td>1</td>\n",
       "      <td>1</td>\n",
       "      <td>500</td>\n",
       "      <td>1</td>\n",
       "      <td>500</td>\n",
       "      <td>1</td>\n",
       "      <td>1401</td>\n",
       "      <td>0</td>\n",
       "    </tr>\n",
       "    <tr>\n",
       "      <th>3998</th>\n",
       "      <td>4021</td>\n",
       "      <td>3016</td>\n",
       "      <td>0</td>\n",
       "      <td>1</td>\n",
       "      <td>1</td>\n",
       "      <td>1</td>\n",
       "      <td>0</td>\n",
       "      <td>0</td>\n",
       "      <td>0</td>\n",
       "      <td>0</td>\n",
       "      <td>1398</td>\n",
       "      <td>0</td>\n",
       "    </tr>\n",
       "  </tbody>\n",
       "</table>\n",
       "<p>3999 rows × 12 columns</p>\n",
       "</div>"
      ],
      "text/plain": [
       "       ID#  Balance  Qual_miles  cc1_miles  cc2_miles  cc3_miles  Bonus_miles  \\\n",
       "0        1    28143           0          1          1          1          174   \n",
       "1        2    19244           0          1          1          1          215   \n",
       "2        3    41354           0          1          1          1         4123   \n",
       "3        4    14776           0          1          1          1          500   \n",
       "4        5    97752           0          4          1          1        43300   \n",
       "...    ...      ...         ...        ...        ...        ...          ...   \n",
       "3994  4017    18476           0          1          1          1         8525   \n",
       "3995  4018    64385           0          1          1          1          981   \n",
       "3996  4019    73597           0          3          1          1        25447   \n",
       "3997  4020    54899           0          1          1          1          500   \n",
       "3998  4021     3016           0          1          1          1            0   \n",
       "\n",
       "      Bonus_trans  Flight_miles_12mo  Flight_trans_12  Days_since_enroll  \\\n",
       "0               1                  0                0               7000   \n",
       "1               2                  0                0               6968   \n",
       "2               4                  0                0               7034   \n",
       "3               1                  0                0               6952   \n",
       "4              26               2077                4               6935   \n",
       "...           ...                ...              ...                ...   \n",
       "3994            4                200                1               1403   \n",
       "3995            5                  0                0               1395   \n",
       "3996            8                  0                0               1402   \n",
       "3997            1                500                1               1401   \n",
       "3998            0                  0                0               1398   \n",
       "\n",
       "      Award?  \n",
       "0          0  \n",
       "1          0  \n",
       "2          0  \n",
       "3          0  \n",
       "4          1  \n",
       "...      ...  \n",
       "3994       1  \n",
       "3995       1  \n",
       "3996       1  \n",
       "3997       0  \n",
       "3998       0  \n",
       "\n",
       "[3999 rows x 12 columns]"
      ]
     },
     "execution_count": 15,
     "metadata": {},
     "output_type": "execute_result"
    }
   ],
   "source": [
    "# Loading Dataset\n",
    "airline = pd.read_csv('EastWestAirlines1.csv' )\n",
    "airline "
   ]
  },
  {
   "cell_type": "markdown",
   "id": "49aac2ba",
   "metadata": {},
   "source": [
    "## EDA"
   ]
  },
  {
   "cell_type": "code",
   "execution_count": 13,
   "id": "3e961010",
   "metadata": {
    "ExecuteTime": {
     "end_time": "2023-02-04T03:20:08.866072Z",
     "start_time": "2023-02-04T03:20:08.843138Z"
    },
    "scrolled": true
   },
   "outputs": [
    {
     "name": "stdout",
     "output_type": "stream",
     "text": [
      "<class 'pandas.core.frame.DataFrame'>\n",
      "RangeIndex: 3999 entries, 0 to 3998\n",
      "Data columns (total 12 columns):\n",
      " #   Column             Non-Null Count  Dtype\n",
      "---  ------             --------------  -----\n",
      " 0   ID#                3999 non-null   int64\n",
      " 1   Balance            3999 non-null   int64\n",
      " 2   Qual_miles         3999 non-null   int64\n",
      " 3   cc1_miles          3999 non-null   int64\n",
      " 4   cc2_miles          3999 non-null   int64\n",
      " 5   cc3_miles          3999 non-null   int64\n",
      " 6   Bonus_miles        3999 non-null   int64\n",
      " 7   Bonus_trans        3999 non-null   int64\n",
      " 8   Flight_miles_12mo  3999 non-null   int64\n",
      " 9   Flight_trans_12    3999 non-null   int64\n",
      " 10  Days_since_enroll  3999 non-null   int64\n",
      " 11  Award?             3999 non-null   int64\n",
      "dtypes: int64(12)\n",
      "memory usage: 375.0 KB\n"
     ]
    }
   ],
   "source": [
    "airline.info()"
   ]
  },
  {
   "cell_type": "code",
   "execution_count": 16,
   "id": "84c4642b",
   "metadata": {
    "ExecuteTime": {
     "end_time": "2023-02-04T03:20:20.566164Z",
     "start_time": "2023-02-04T03:20:20.543732Z"
    }
   },
   "outputs": [
    {
     "data": {
      "text/html": [
       "<div>\n",
       "<style scoped>\n",
       "    .dataframe tbody tr th:only-of-type {\n",
       "        vertical-align: middle;\n",
       "    }\n",
       "\n",
       "    .dataframe tbody tr th {\n",
       "        vertical-align: top;\n",
       "    }\n",
       "\n",
       "    .dataframe thead th {\n",
       "        text-align: right;\n",
       "    }\n",
       "</style>\n",
       "<table border=\"1\" class=\"dataframe\">\n",
       "  <thead>\n",
       "    <tr style=\"text-align: right;\">\n",
       "      <th></th>\n",
       "      <th>ID</th>\n",
       "      <th>Balance</th>\n",
       "      <th>Qual_miles</th>\n",
       "      <th>cc1_miles</th>\n",
       "      <th>cc2_miles</th>\n",
       "      <th>cc3_miles</th>\n",
       "      <th>Bonus_miles</th>\n",
       "      <th>Bonus_trans</th>\n",
       "      <th>Flight_miles_12mo</th>\n",
       "      <th>Flight_trans_12</th>\n",
       "      <th>Days_since_enroll</th>\n",
       "      <th>Award</th>\n",
       "    </tr>\n",
       "  </thead>\n",
       "  <tbody>\n",
       "    <tr>\n",
       "      <th>0</th>\n",
       "      <td>1</td>\n",
       "      <td>28143</td>\n",
       "      <td>0</td>\n",
       "      <td>1</td>\n",
       "      <td>1</td>\n",
       "      <td>1</td>\n",
       "      <td>174</td>\n",
       "      <td>1</td>\n",
       "      <td>0</td>\n",
       "      <td>0</td>\n",
       "      <td>7000</td>\n",
       "      <td>0</td>\n",
       "    </tr>\n",
       "    <tr>\n",
       "      <th>1</th>\n",
       "      <td>2</td>\n",
       "      <td>19244</td>\n",
       "      <td>0</td>\n",
       "      <td>1</td>\n",
       "      <td>1</td>\n",
       "      <td>1</td>\n",
       "      <td>215</td>\n",
       "      <td>2</td>\n",
       "      <td>0</td>\n",
       "      <td>0</td>\n",
       "      <td>6968</td>\n",
       "      <td>0</td>\n",
       "    </tr>\n",
       "    <tr>\n",
       "      <th>2</th>\n",
       "      <td>3</td>\n",
       "      <td>41354</td>\n",
       "      <td>0</td>\n",
       "      <td>1</td>\n",
       "      <td>1</td>\n",
       "      <td>1</td>\n",
       "      <td>4123</td>\n",
       "      <td>4</td>\n",
       "      <td>0</td>\n",
       "      <td>0</td>\n",
       "      <td>7034</td>\n",
       "      <td>0</td>\n",
       "    </tr>\n",
       "    <tr>\n",
       "      <th>3</th>\n",
       "      <td>4</td>\n",
       "      <td>14776</td>\n",
       "      <td>0</td>\n",
       "      <td>1</td>\n",
       "      <td>1</td>\n",
       "      <td>1</td>\n",
       "      <td>500</td>\n",
       "      <td>1</td>\n",
       "      <td>0</td>\n",
       "      <td>0</td>\n",
       "      <td>6952</td>\n",
       "      <td>0</td>\n",
       "    </tr>\n",
       "    <tr>\n",
       "      <th>4</th>\n",
       "      <td>5</td>\n",
       "      <td>97752</td>\n",
       "      <td>0</td>\n",
       "      <td>4</td>\n",
       "      <td>1</td>\n",
       "      <td>1</td>\n",
       "      <td>43300</td>\n",
       "      <td>26</td>\n",
       "      <td>2077</td>\n",
       "      <td>4</td>\n",
       "      <td>6935</td>\n",
       "      <td>1</td>\n",
       "    </tr>\n",
       "  </tbody>\n",
       "</table>\n",
       "</div>"
      ],
      "text/plain": [
       "   ID  Balance  Qual_miles  cc1_miles  cc2_miles  cc3_miles  Bonus_miles  \\\n",
       "0   1    28143           0          1          1          1          174   \n",
       "1   2    19244           0          1          1          1          215   \n",
       "2   3    41354           0          1          1          1         4123   \n",
       "3   4    14776           0          1          1          1          500   \n",
       "4   5    97752           0          4          1          1        43300   \n",
       "\n",
       "   Bonus_trans  Flight_miles_12mo  Flight_trans_12  Days_since_enroll  Award  \n",
       "0            1                  0                0               7000      0  \n",
       "1            2                  0                0               6968      0  \n",
       "2            4                  0                0               7034      0  \n",
       "3            1                  0                0               6952      0  \n",
       "4           26               2077                4               6935      1  "
      ]
     },
     "execution_count": 16,
     "metadata": {},
     "output_type": "execute_result"
    }
   ],
   "source": [
    "# Renaming columns\n",
    "airline = airline.rename({'ID#':'ID', 'Award?':'Award'}, axis=1)\n",
    "airline.head() "
   ]
  },
  {
   "cell_type": "code",
   "execution_count": 17,
   "id": "445cb33b",
   "metadata": {
    "ExecuteTime": {
     "end_time": "2023-02-04T03:20:25.028542Z",
     "start_time": "2023-02-04T03:20:25.008996Z"
    }
   },
   "outputs": [],
   "source": [
    "# Checking for all the values in dataset of type integer, if not replacing them with nan\n",
    "def check_int(df):\n",
    "    count = 0\n",
    "    for row in df:\n",
    "        try:\n",
    "            if type(row) != int:\n",
    "                df.loc[count] = np.nan\n",
    "        except:\n",
    "            pass\n",
    "        count +=1"
   ]
  },
  {
   "cell_type": "code",
   "execution_count": 18,
   "id": "fa70cef9",
   "metadata": {
    "ExecuteTime": {
     "end_time": "2023-02-04T03:20:27.887235Z",
     "start_time": "2023-02-04T03:20:27.858349Z"
    }
   },
   "outputs": [],
   "source": [
    "check_int(airline[airline.columns])"
   ]
  },
  {
   "cell_type": "code",
   "execution_count": 19,
   "id": "24e6a4e6",
   "metadata": {
    "ExecuteTime": {
     "end_time": "2023-02-04T03:20:31.008472Z",
     "start_time": "2023-02-04T03:20:30.994571Z"
    }
   },
   "outputs": [
    {
     "data": {
      "text/plain": [
       "ID                   0\n",
       "Balance              0\n",
       "Qual_miles           0\n",
       "cc1_miles            0\n",
       "cc2_miles            0\n",
       "cc3_miles            0\n",
       "Bonus_miles          0\n",
       "Bonus_trans          0\n",
       "Flight_miles_12mo    0\n",
       "Flight_trans_12      0\n",
       "Days_since_enroll    0\n",
       "Award                0\n",
       "dtype: int64"
      ]
     },
     "execution_count": 19,
     "metadata": {},
     "output_type": "execute_result"
    }
   ],
   "source": [
    "airline.isna().sum()"
   ]
  },
  {
   "cell_type": "code",
   "execution_count": 20,
   "id": "e8b8a031",
   "metadata": {
    "ExecuteTime": {
     "end_time": "2023-02-04T03:20:34.510476Z",
     "start_time": "2023-02-04T03:20:34.460682Z"
    }
   },
   "outputs": [
    {
     "data": {
      "text/html": [
       "<div>\n",
       "<style scoped>\n",
       "    .dataframe tbody tr th:only-of-type {\n",
       "        vertical-align: middle;\n",
       "    }\n",
       "\n",
       "    .dataframe tbody tr th {\n",
       "        vertical-align: top;\n",
       "    }\n",
       "\n",
       "    .dataframe thead th {\n",
       "        text-align: right;\n",
       "    }\n",
       "</style>\n",
       "<table border=\"1\" class=\"dataframe\">\n",
       "  <thead>\n",
       "    <tr style=\"text-align: right;\">\n",
       "      <th></th>\n",
       "      <th>ID</th>\n",
       "      <th>Balance</th>\n",
       "      <th>Qual_miles</th>\n",
       "      <th>cc1_miles</th>\n",
       "      <th>cc2_miles</th>\n",
       "      <th>cc3_miles</th>\n",
       "      <th>Bonus_miles</th>\n",
       "      <th>Bonus_trans</th>\n",
       "      <th>Flight_miles_12mo</th>\n",
       "      <th>Flight_trans_12</th>\n",
       "      <th>Days_since_enroll</th>\n",
       "      <th>Award</th>\n",
       "    </tr>\n",
       "  </thead>\n",
       "  <tbody>\n",
       "    <tr>\n",
       "      <th>count</th>\n",
       "      <td>3999.000000</td>\n",
       "      <td>3.999000e+03</td>\n",
       "      <td>3999.000000</td>\n",
       "      <td>3999.000000</td>\n",
       "      <td>3999.000000</td>\n",
       "      <td>3999.000000</td>\n",
       "      <td>3999.000000</td>\n",
       "      <td>3999.00000</td>\n",
       "      <td>3999.000000</td>\n",
       "      <td>3999.000000</td>\n",
       "      <td>3999.00000</td>\n",
       "      <td>3999.000000</td>\n",
       "    </tr>\n",
       "    <tr>\n",
       "      <th>mean</th>\n",
       "      <td>2014.819455</td>\n",
       "      <td>7.360133e+04</td>\n",
       "      <td>144.114529</td>\n",
       "      <td>2.059515</td>\n",
       "      <td>1.014504</td>\n",
       "      <td>1.012253</td>\n",
       "      <td>17144.846212</td>\n",
       "      <td>11.60190</td>\n",
       "      <td>460.055764</td>\n",
       "      <td>1.373593</td>\n",
       "      <td>4118.55939</td>\n",
       "      <td>0.370343</td>\n",
       "    </tr>\n",
       "    <tr>\n",
       "      <th>std</th>\n",
       "      <td>1160.764358</td>\n",
       "      <td>1.007757e+05</td>\n",
       "      <td>773.663804</td>\n",
       "      <td>1.376919</td>\n",
       "      <td>0.147650</td>\n",
       "      <td>0.195241</td>\n",
       "      <td>24150.967826</td>\n",
       "      <td>9.60381</td>\n",
       "      <td>1400.209171</td>\n",
       "      <td>3.793172</td>\n",
       "      <td>2065.13454</td>\n",
       "      <td>0.482957</td>\n",
       "    </tr>\n",
       "    <tr>\n",
       "      <th>min</th>\n",
       "      <td>1.000000</td>\n",
       "      <td>0.000000e+00</td>\n",
       "      <td>0.000000</td>\n",
       "      <td>1.000000</td>\n",
       "      <td>1.000000</td>\n",
       "      <td>1.000000</td>\n",
       "      <td>0.000000</td>\n",
       "      <td>0.00000</td>\n",
       "      <td>0.000000</td>\n",
       "      <td>0.000000</td>\n",
       "      <td>2.00000</td>\n",
       "      <td>0.000000</td>\n",
       "    </tr>\n",
       "    <tr>\n",
       "      <th>25%</th>\n",
       "      <td>1010.500000</td>\n",
       "      <td>1.852750e+04</td>\n",
       "      <td>0.000000</td>\n",
       "      <td>1.000000</td>\n",
       "      <td>1.000000</td>\n",
       "      <td>1.000000</td>\n",
       "      <td>1250.000000</td>\n",
       "      <td>3.00000</td>\n",
       "      <td>0.000000</td>\n",
       "      <td>0.000000</td>\n",
       "      <td>2330.00000</td>\n",
       "      <td>0.000000</td>\n",
       "    </tr>\n",
       "    <tr>\n",
       "      <th>50%</th>\n",
       "      <td>2016.000000</td>\n",
       "      <td>4.309700e+04</td>\n",
       "      <td>0.000000</td>\n",
       "      <td>1.000000</td>\n",
       "      <td>1.000000</td>\n",
       "      <td>1.000000</td>\n",
       "      <td>7171.000000</td>\n",
       "      <td>12.00000</td>\n",
       "      <td>0.000000</td>\n",
       "      <td>0.000000</td>\n",
       "      <td>4096.00000</td>\n",
       "      <td>0.000000</td>\n",
       "    </tr>\n",
       "    <tr>\n",
       "      <th>75%</th>\n",
       "      <td>3020.500000</td>\n",
       "      <td>9.240400e+04</td>\n",
       "      <td>0.000000</td>\n",
       "      <td>3.000000</td>\n",
       "      <td>1.000000</td>\n",
       "      <td>1.000000</td>\n",
       "      <td>23800.500000</td>\n",
       "      <td>17.00000</td>\n",
       "      <td>311.000000</td>\n",
       "      <td>1.000000</td>\n",
       "      <td>5790.50000</td>\n",
       "      <td>1.000000</td>\n",
       "    </tr>\n",
       "    <tr>\n",
       "      <th>max</th>\n",
       "      <td>4021.000000</td>\n",
       "      <td>1.704838e+06</td>\n",
       "      <td>11148.000000</td>\n",
       "      <td>5.000000</td>\n",
       "      <td>3.000000</td>\n",
       "      <td>5.000000</td>\n",
       "      <td>263685.000000</td>\n",
       "      <td>86.00000</td>\n",
       "      <td>30817.000000</td>\n",
       "      <td>53.000000</td>\n",
       "      <td>8296.00000</td>\n",
       "      <td>1.000000</td>\n",
       "    </tr>\n",
       "  </tbody>\n",
       "</table>\n",
       "</div>"
      ],
      "text/plain": [
       "                ID       Balance    Qual_miles    cc1_miles    cc2_miles  \\\n",
       "count  3999.000000  3.999000e+03   3999.000000  3999.000000  3999.000000   \n",
       "mean   2014.819455  7.360133e+04    144.114529     2.059515     1.014504   \n",
       "std    1160.764358  1.007757e+05    773.663804     1.376919     0.147650   \n",
       "min       1.000000  0.000000e+00      0.000000     1.000000     1.000000   \n",
       "25%    1010.500000  1.852750e+04      0.000000     1.000000     1.000000   \n",
       "50%    2016.000000  4.309700e+04      0.000000     1.000000     1.000000   \n",
       "75%    3020.500000  9.240400e+04      0.000000     3.000000     1.000000   \n",
       "max    4021.000000  1.704838e+06  11148.000000     5.000000     3.000000   \n",
       "\n",
       "         cc3_miles    Bonus_miles  Bonus_trans  Flight_miles_12mo  \\\n",
       "count  3999.000000    3999.000000   3999.00000        3999.000000   \n",
       "mean      1.012253   17144.846212     11.60190         460.055764   \n",
       "std       0.195241   24150.967826      9.60381        1400.209171   \n",
       "min       1.000000       0.000000      0.00000           0.000000   \n",
       "25%       1.000000    1250.000000      3.00000           0.000000   \n",
       "50%       1.000000    7171.000000     12.00000           0.000000   \n",
       "75%       1.000000   23800.500000     17.00000         311.000000   \n",
       "max       5.000000  263685.000000     86.00000       30817.000000   \n",
       "\n",
       "       Flight_trans_12  Days_since_enroll        Award  \n",
       "count      3999.000000         3999.00000  3999.000000  \n",
       "mean          1.373593         4118.55939     0.370343  \n",
       "std           3.793172         2065.13454     0.482957  \n",
       "min           0.000000            2.00000     0.000000  \n",
       "25%           0.000000         2330.00000     0.000000  \n",
       "50%           0.000000         4096.00000     0.000000  \n",
       "75%           1.000000         5790.50000     1.000000  \n",
       "max          53.000000         8296.00000     1.000000  "
      ]
     },
     "execution_count": 20,
     "metadata": {},
     "output_type": "execute_result"
    }
   ],
   "source": [
    "airline.describe()"
   ]
  },
  {
   "cell_type": "markdown",
   "id": "f7d14af0",
   "metadata": {},
   "source": [
    "\n",
    "## Agglomerative Clustering"
   ]
  },
  {
   "cell_type": "code",
   "execution_count": 21,
   "id": "652043cc",
   "metadata": {
    "ExecuteTime": {
     "end_time": "2023-02-04T03:20:37.747993Z",
     "start_time": "2023-02-04T03:20:37.726420Z"
    }
   },
   "outputs": [
    {
     "data": {
      "text/html": [
       "<div>\n",
       "<style scoped>\n",
       "    .dataframe tbody tr th:only-of-type {\n",
       "        vertical-align: middle;\n",
       "    }\n",
       "\n",
       "    .dataframe tbody tr th {\n",
       "        vertical-align: top;\n",
       "    }\n",
       "\n",
       "    .dataframe thead th {\n",
       "        text-align: right;\n",
       "    }\n",
       "</style>\n",
       "<table border=\"1\" class=\"dataframe\">\n",
       "  <thead>\n",
       "    <tr style=\"text-align: right;\">\n",
       "      <th></th>\n",
       "      <th>Balance</th>\n",
       "      <th>Qual_miles</th>\n",
       "      <th>cc1_miles</th>\n",
       "      <th>cc2_miles</th>\n",
       "      <th>cc3_miles</th>\n",
       "      <th>Bonus_miles</th>\n",
       "      <th>Bonus_trans</th>\n",
       "      <th>Flight_miles_12mo</th>\n",
       "      <th>Flight_trans_12</th>\n",
       "      <th>Days_since_enroll</th>\n",
       "      <th>Award</th>\n",
       "    </tr>\n",
       "  </thead>\n",
       "  <tbody>\n",
       "    <tr>\n",
       "      <th>0</th>\n",
       "      <td>28143</td>\n",
       "      <td>0</td>\n",
       "      <td>1</td>\n",
       "      <td>1</td>\n",
       "      <td>1</td>\n",
       "      <td>174</td>\n",
       "      <td>1</td>\n",
       "      <td>0</td>\n",
       "      <td>0</td>\n",
       "      <td>7000</td>\n",
       "      <td>0</td>\n",
       "    </tr>\n",
       "    <tr>\n",
       "      <th>1</th>\n",
       "      <td>19244</td>\n",
       "      <td>0</td>\n",
       "      <td>1</td>\n",
       "      <td>1</td>\n",
       "      <td>1</td>\n",
       "      <td>215</td>\n",
       "      <td>2</td>\n",
       "      <td>0</td>\n",
       "      <td>0</td>\n",
       "      <td>6968</td>\n",
       "      <td>0</td>\n",
       "    </tr>\n",
       "    <tr>\n",
       "      <th>2</th>\n",
       "      <td>41354</td>\n",
       "      <td>0</td>\n",
       "      <td>1</td>\n",
       "      <td>1</td>\n",
       "      <td>1</td>\n",
       "      <td>4123</td>\n",
       "      <td>4</td>\n",
       "      <td>0</td>\n",
       "      <td>0</td>\n",
       "      <td>7034</td>\n",
       "      <td>0</td>\n",
       "    </tr>\n",
       "    <tr>\n",
       "      <th>3</th>\n",
       "      <td>14776</td>\n",
       "      <td>0</td>\n",
       "      <td>1</td>\n",
       "      <td>1</td>\n",
       "      <td>1</td>\n",
       "      <td>500</td>\n",
       "      <td>1</td>\n",
       "      <td>0</td>\n",
       "      <td>0</td>\n",
       "      <td>6952</td>\n",
       "      <td>0</td>\n",
       "    </tr>\n",
       "    <tr>\n",
       "      <th>4</th>\n",
       "      <td>97752</td>\n",
       "      <td>0</td>\n",
       "      <td>4</td>\n",
       "      <td>1</td>\n",
       "      <td>1</td>\n",
       "      <td>43300</td>\n",
       "      <td>26</td>\n",
       "      <td>2077</td>\n",
       "      <td>4</td>\n",
       "      <td>6935</td>\n",
       "      <td>1</td>\n",
       "    </tr>\n",
       "  </tbody>\n",
       "</table>\n",
       "</div>"
      ],
      "text/plain": [
       "   Balance  Qual_miles  cc1_miles  cc2_miles  cc3_miles  Bonus_miles  \\\n",
       "0    28143           0          1          1          1          174   \n",
       "1    19244           0          1          1          1          215   \n",
       "2    41354           0          1          1          1         4123   \n",
       "3    14776           0          1          1          1          500   \n",
       "4    97752           0          4          1          1        43300   \n",
       "\n",
       "   Bonus_trans  Flight_miles_12mo  Flight_trans_12  Days_since_enroll  Award  \n",
       "0            1                  0                0               7000      0  \n",
       "1            2                  0                0               6968      0  \n",
       "2            4                  0                0               7034      0  \n",
       "3            1                  0                0               6952      0  \n",
       "4           26               2077                4               6935      1  "
      ]
     },
     "execution_count": 21,
     "metadata": {},
     "output_type": "execute_result"
    }
   ],
   "source": [
    "airline1 = airline.drop('ID', axis=1)\n",
    "airline1.head() "
   ]
  },
  {
   "cell_type": "code",
   "execution_count": 22,
   "id": "ffb61ada",
   "metadata": {
    "ExecuteTime": {
     "end_time": "2023-02-04T03:20:40.791937Z",
     "start_time": "2023-02-04T03:20:40.778084Z"
    }
   },
   "outputs": [],
   "source": [
    "from sklearn.preprocessing import MinMaxScaler\n",
    "from sklearn.preprocessing import StandardScaler"
   ]
  },
  {
   "cell_type": "code",
   "execution_count": 23,
   "id": "02df4fd1",
   "metadata": {
    "ExecuteTime": {
     "end_time": "2023-02-04T03:20:44.044535Z",
     "start_time": "2023-02-04T03:20:44.033293Z"
    }
   },
   "outputs": [],
   "source": [
    "# We will check clustering for two different scaling functions\n",
    "scaler1 = MinMaxScaler()\n",
    "scaler2 = StandardScaler()"
   ]
  },
  {
   "cell_type": "code",
   "execution_count": 24,
   "id": "7e1f5775",
   "metadata": {
    "ExecuteTime": {
     "end_time": "2023-02-04T03:20:46.867708Z",
     "start_time": "2023-02-04T03:20:46.839202Z"
    }
   },
   "outputs": [
    {
     "name": "stdout",
     "output_type": "stream",
     "text": [
      "[[0.01650773 0.         0.         ... 0.         0.84374246 0.        ]\n",
      " [0.01128788 0.         0.         ... 0.         0.83988425 0.        ]\n",
      " [0.02425685 0.         0.         ... 0.         0.84784181 0.        ]\n",
      " ...\n",
      " [0.0431695  0.         0.5        ... 0.         0.16879672 1.        ]\n",
      " [0.03220189 0.         0.         ... 0.01886792 0.16867615 0.        ]\n",
      " [0.00176908 0.         0.         ... 0.         0.16831444 0.        ]]\n",
      "\n",
      "\n",
      "[[-4.51140783e-01 -1.86298687e-01 -7.69578406e-01 ... -3.62167870e-01\n",
      "   1.39545434e+00 -7.66919299e-01]\n",
      " [-5.39456874e-01 -1.86298687e-01 -7.69578406e-01 ... -3.62167870e-01\n",
      "   1.37995704e+00 -7.66919299e-01]\n",
      " [-3.20031232e-01 -1.86298687e-01 -7.69578406e-01 ... -3.62167870e-01\n",
      "   1.41192021e+00 -7.66919299e-01]\n",
      " ...\n",
      " [-4.29480975e-05 -1.86298687e-01  6.83121167e-01 ... -3.62167870e-01\n",
      "  -1.31560393e+00  1.30391816e+00]\n",
      " [-1.85606976e-01 -1.86298687e-01 -7.69578406e-01 ... -9.85033311e-02\n",
      "  -1.31608822e+00 -7.66919299e-01]\n",
      " [-7.00507951e-01 -1.86298687e-01 -7.69578406e-01 ... -3.62167870e-01\n",
      "  -1.31754109e+00 -7.66919299e-01]]\n"
     ]
    }
   ],
   "source": [
    "# Normalizing Dataset\n",
    "scaler1_df = scaler1.fit_transform(airline1)\n",
    "print(scaler1_df)\n",
    "\n",
    "print('\\n')\n",
    "\n",
    "scaler2_df = scaler2.fit_transform(airline1)\n",
    "print(scaler2_df)"
   ]
  },
  {
   "cell_type": "code",
   "execution_count": 25,
   "id": "5445d903",
   "metadata": {
    "ExecuteTime": {
     "end_time": "2023-02-04T03:20:50.145516Z",
     "start_time": "2023-02-04T03:20:50.113124Z"
    }
   },
   "outputs": [],
   "source": [
    "import scipy.cluster.hierarchy as sch\n",
    "from sklearn.cluster import AgglomerativeClustering"
   ]
  },
  {
   "cell_type": "code",
   "execution_count": 30,
   "id": "fd6ca863",
   "metadata": {
    "ExecuteTime": {
     "end_time": "2023-02-04T03:23:59.298333Z",
     "start_time": "2023-02-04T03:23:11.294769Z"
    }
   },
   "outputs": [
    {
     "data": {
      "image/png": "[encoded data removed]",
      "text/plain": [
       "<Figure size 1000x700 with 1 Axes>"
      ]
     },
     "metadata": {},
     "output_type": "display_data"
    }
   ],
   "source": [
    "# Creating Dendograms\n",
    "plt.figure(figsize=(10,7))\n",
    "dendograms = sch.dendrogram(sch.linkage(scaler1_df, 'complete'))"
   ]
  },
  {
   "cell_type": "code",
   "execution_count": 27,
   "id": "9af7a116",
   "metadata": {
    "ExecuteTime": {
     "end_time": "2023-02-04T03:22:26.701363Z",
     "start_time": "2023-02-04T03:21:39.434686Z"
    }
   },
   "outputs": [
    {
     "data": {
      "image/png": "[encoded data removed]",
      "text/plain": [
       "<Figure size 1000x700 with 1 Axes>"
      ]
     },
     "metadata": {},
     "output_type": "display_data"
    }
   ],
   "source": [
    "plt.figure(figsize=(10,7))\n",
    "dendograms = sch.dendrogram(sch.linkage(scaler2_df, 'complete'))"
   ]
  },
  {
   "cell_type": "code",
   "execution_count": 31,
   "id": "9136f993",
   "metadata": {
    "ExecuteTime": {
     "end_time": "2023-02-04T03:23:59.311476Z",
     "start_time": "2023-02-04T03:23:59.302000Z"
    }
   },
   "outputs": [
    {
     "data": {
      "text/plain": [
       "AgglomerativeClustering(n_clusters=5)"
      ]
     },
     "execution_count": 31,
     "metadata": {},
     "output_type": "execute_result"
    }
   ],
   "source": [
    "# Creating clusters\n",
    "H_clusters = AgglomerativeClustering(n_clusters=5, affinity='euclidean', linkage='ward')\n",
    "H_clusters "
   ]
  },
  {
   "cell_type": "code",
   "execution_count": 32,
   "id": "0af37c28",
   "metadata": {
    "ExecuteTime": {
     "end_time": "2023-02-04T03:23:59.857507Z",
     "start_time": "2023-02-04T03:23:59.314458Z"
    }
   },
   "outputs": [
    {
     "data": {
      "text/plain": [
       "1    1011\n",
       "0     946\n",
       "2     808\n",
       "4     699\n",
       "3     535\n",
       "Name: clustersid, dtype: int64"
      ]
     },
     "execution_count": 32,
     "metadata": {},
     "output_type": "execute_result"
    }
   ],
   "source": [
    "# using data normalized by MinMaxScalar\n",
    "y = pd.DataFrame(H_clusters.fit_predict(scaler1_df), columns=['clustersid'])\n",
    "y['clustersid'].value_counts()"
   ]
  },
  {
   "cell_type": "code",
   "execution_count": 33,
   "id": "2cfa3a5b",
   "metadata": {
    "ExecuteTime": {
     "end_time": "2023-02-04T03:24:13.632128Z",
     "start_time": "2023-02-04T03:24:13.618701Z"
    }
   },
   "outputs": [],
   "source": [
    "# adding clusters to dataset\n",
    "# 1. cluster id with scalar_1 i.e. MinMaxScalar\n",
    "airline['clustersid_s1']=H_clusters.labels_\n",
    "airline\n",
    "\n",
    "airline1['clustersid_s1']=H_clusters.labels_"
   ]
  },
  {
   "cell_type": "code",
   "execution_count": 34,
   "id": "8faf3a6a",
   "metadata": {
    "ExecuteTime": {
     "end_time": "2023-02-04T03:24:17.106373Z",
     "start_time": "2023-02-04T03:24:16.932854Z"
    }
   },
   "outputs": [
    {
     "data": {
      "image/png": "[encoded data removed]",
      "text/plain": [
       "<Figure size 1000x600 with 1 Axes>"
      ]
     },
     "metadata": {},
     "output_type": "display_data"
    }
   ],
   "source": [
    "# Plotting barplot using groupby method to get visualization of how many row no. in each cluster\n",
    "\n",
    "fig, ax = plt.subplots(figsize=(10, 6))\n",
    "airline.groupby(['clustersid_s1']).count()['ID'].plot(kind='bar')\n",
    "plt.ylabel('ID Counts')\n",
    "plt.title('Hierarchical Clustering',fontsize='large',fontweight='bold')\n",
    "ax.set_xlabel('Clusters', fontsize='large', fontweight='bold')\n",
    "ax.set_ylabel('ID counts', fontsize='large', fontweight='bold')\n",
    "plt.yticks(fontsize=15)\n",
    "plt.xticks(fontsize=15)\n",
    "plt.show()"
   ]
  },
  {
   "cell_type": "code",
   "execution_count": 35,
   "id": "6f364eaf",
   "metadata": {
    "ExecuteTime": {
     "end_time": "2023-02-04T03:24:20.612302Z",
     "start_time": "2023-02-04T03:24:20.575398Z"
    }
   },
   "outputs": [
    {
     "data": {
      "text/html": [
       "<div>\n",
       "<style scoped>\n",
       "    .dataframe tbody tr th:only-of-type {\n",
       "        vertical-align: middle;\n",
       "    }\n",
       "\n",
       "    .dataframe tbody tr th {\n",
       "        vertical-align: top;\n",
       "    }\n",
       "\n",
       "    .dataframe thead tr th {\n",
       "        text-align: left;\n",
       "    }\n",
       "</style>\n",
       "<table border=\"1\" class=\"dataframe\">\n",
       "  <thead>\n",
       "    <tr>\n",
       "      <th></th>\n",
       "      <th>clustersid_s1</th>\n",
       "      <th>Balance</th>\n",
       "      <th>Qual_miles</th>\n",
       "      <th>cc1_miles</th>\n",
       "      <th>cc2_miles</th>\n",
       "      <th>cc3_miles</th>\n",
       "      <th>Bonus_miles</th>\n",
       "      <th>Bonus_trans</th>\n",
       "      <th>Flight_miles_12mo</th>\n",
       "      <th>Flight_trans_12</th>\n",
       "      <th>Days_since_enroll</th>\n",
       "      <th>Award</th>\n",
       "    </tr>\n",
       "    <tr>\n",
       "      <th></th>\n",
       "      <th></th>\n",
       "      <th>mean</th>\n",
       "      <th>mean</th>\n",
       "      <th>mean</th>\n",
       "      <th>mean</th>\n",
       "      <th>mean</th>\n",
       "      <th>mean</th>\n",
       "      <th>mean</th>\n",
       "      <th>mean</th>\n",
       "      <th>mean</th>\n",
       "      <th>mean</th>\n",
       "      <th>mean</th>\n",
       "    </tr>\n",
       "  </thead>\n",
       "  <tbody>\n",
       "    <tr>\n",
       "      <th>0</th>\n",
       "      <td>0</td>\n",
       "      <td>79848.233615</td>\n",
       "      <td>285.097252</td>\n",
       "      <td>1.699789</td>\n",
       "      <td>1.024313</td>\n",
       "      <td>1.000000</td>\n",
       "      <td>12079.774841</td>\n",
       "      <td>12.133192</td>\n",
       "      <td>781.939746</td>\n",
       "      <td>2.369979</td>\n",
       "      <td>4372.173362</td>\n",
       "      <td>1.0</td>\n",
       "    </tr>\n",
       "    <tr>\n",
       "      <th>1</th>\n",
       "      <td>1</td>\n",
       "      <td>43313.653808</td>\n",
       "      <td>21.506429</td>\n",
       "      <td>1.000000</td>\n",
       "      <td>1.033630</td>\n",
       "      <td>1.000989</td>\n",
       "      <td>2562.614243</td>\n",
       "      <td>5.474777</td>\n",
       "      <td>169.510386</td>\n",
       "      <td>0.523244</td>\n",
       "      <td>4940.680514</td>\n",
       "      <td>0.0</td>\n",
       "    </tr>\n",
       "    <tr>\n",
       "      <th>2</th>\n",
       "      <td>2</td>\n",
       "      <td>106221.111386</td>\n",
       "      <td>161.262376</td>\n",
       "      <td>3.198020</td>\n",
       "      <td>1.001238</td>\n",
       "      <td>1.025990</td>\n",
       "      <td>26458.257426</td>\n",
       "      <td>16.363861</td>\n",
       "      <td>198.733911</td>\n",
       "      <td>0.558168</td>\n",
       "      <td>4367.250000</td>\n",
       "      <td>0.0</td>\n",
       "    </tr>\n",
       "    <tr>\n",
       "      <th>3</th>\n",
       "      <td>3</td>\n",
       "      <td>127475.028037</td>\n",
       "      <td>160.801869</td>\n",
       "      <td>4.362617</td>\n",
       "      <td>1.000000</td>\n",
       "      <td>1.050467</td>\n",
       "      <td>58656.919626</td>\n",
       "      <td>22.235514</td>\n",
       "      <td>991.110280</td>\n",
       "      <td>3.005607</td>\n",
       "      <td>5072.226168</td>\n",
       "      <td>1.0</td>\n",
       "    </tr>\n",
       "    <tr>\n",
       "      <th>4</th>\n",
       "      <td>4</td>\n",
       "      <td>30013.416309</td>\n",
       "      <td>98.054363</td>\n",
       "      <td>1.000000</td>\n",
       "      <td>1.000000</td>\n",
       "      <td>1.000000</td>\n",
       "      <td>2552.569385</td>\n",
       "      <td>6.101574</td>\n",
       "      <td>340.274678</td>\n",
       "      <td>0.948498</td>\n",
       "      <td>1568.864092</td>\n",
       "      <td>0.0</td>\n",
       "    </tr>\n",
       "  </tbody>\n",
       "</table>\n",
       "</div>"
      ],
      "text/plain": [
       "  clustersid_s1        Balance  Qual_miles cc1_miles cc2_miles cc3_miles  \\\n",
       "                          mean        mean      mean      mean      mean   \n",
       "0             0   79848.233615  285.097252  1.699789  1.024313  1.000000   \n",
       "1             1   43313.653808   21.506429  1.000000  1.033630  1.000989   \n",
       "2             2  106221.111386  161.262376  3.198020  1.001238  1.025990   \n",
       "3             3  127475.028037  160.801869  4.362617  1.000000  1.050467   \n",
       "4             4   30013.416309   98.054363  1.000000  1.000000  1.000000   \n",
       "\n",
       "    Bonus_miles Bonus_trans Flight_miles_12mo Flight_trans_12  \\\n",
       "           mean        mean              mean            mean   \n",
       "0  12079.774841   12.133192        781.939746        2.369979   \n",
       "1   2562.614243    5.474777        169.510386        0.523244   \n",
       "2  26458.257426   16.363861        198.733911        0.558168   \n",
       "3  58656.919626   22.235514        991.110280        3.005607   \n",
       "4   2552.569385    6.101574        340.274678        0.948498   \n",
       "\n",
       "  Days_since_enroll Award  \n",
       "               mean  mean  \n",
       "0       4372.173362   1.0  \n",
       "1       4940.680514   0.0  \n",
       "2       4367.250000   0.0  \n",
       "3       5072.226168   1.0  \n",
       "4       1568.864092   0.0  "
      ]
     },
     "execution_count": 35,
     "metadata": {},
     "output_type": "execute_result"
    }
   ],
   "source": [
    "airline1.groupby('clustersid_s1').agg(['mean']).reset_index()"
   ]
  },
  {
   "cell_type": "code",
   "execution_count": 36,
   "id": "313929b8",
   "metadata": {
    "ExecuteTime": {
     "end_time": "2023-02-04T03:24:23.474886Z",
     "start_time": "2023-02-04T03:24:23.459833Z"
    }
   },
   "outputs": [],
   "source": [
    "# silhouette_score of AgglomerativeClustering\n",
    "from sklearn.metrics import silhouette_score"
   ]
  },
  {
   "cell_type": "code",
   "execution_count": 37,
   "id": "5d763c6a",
   "metadata": {
    "ExecuteTime": {
     "end_time": "2023-02-04T03:24:26.863971Z",
     "start_time": "2023-02-04T03:24:26.581622Z"
    }
   },
   "outputs": [
    {
     "data": {
      "text/plain": [
       "0.3762586351398372"
      ]
     },
     "execution_count": 37,
     "metadata": {},
     "output_type": "execute_result"
    }
   ],
   "source": [
    "sil_score= silhouette_score(scaler1_df, H_clusters.labels_)\n",
    "sil_score"
   ]
  },
  {
   "cell_type": "code",
   "execution_count": 38,
   "id": "e3bfa4e8",
   "metadata": {
    "ExecuteTime": {
     "end_time": "2023-02-04T03:24:30.482089Z",
     "start_time": "2023-02-04T03:24:30.052784Z"
    }
   },
   "outputs": [
    {
     "data": {
      "text/plain": [
       "1    2446\n",
       "0    1362\n",
       "2     130\n",
       "3      43\n",
       "4      18\n",
       "Name: clustersid, dtype: int64"
      ]
     },
     "execution_count": 38,
     "metadata": {},
     "output_type": "execute_result"
    }
   ],
   "source": [
    "# Using data normalized by StandardScaler\n",
    "y=pd.DataFrame(H_clusters.fit_predict(scaler2_df),columns=['clustersid'])\n",
    "y['clustersid'].value_counts()"
   ]
  },
  {
   "cell_type": "code",
   "execution_count": 39,
   "id": "e65de6ba",
   "metadata": {
    "ExecuteTime": {
     "end_time": "2023-02-04T03:24:33.458972Z",
     "start_time": "2023-02-04T03:24:33.447023Z"
    }
   },
   "outputs": [],
   "source": [
    "# Adding clusters to dataset\n",
    "# 1. cluster id with scaler_1 i.e. StandardScaler\n",
    "airline['clustersid_s2']=H_clusters.labels_\n",
    "airline1['clustersid_s2']=H_clusters.labels_"
   ]
  },
  {
   "cell_type": "code",
   "execution_count": 40,
   "id": "083a18f1",
   "metadata": {
    "ExecuteTime": {
     "end_time": "2023-02-04T03:24:37.263392Z",
     "start_time": "2023-02-04T03:24:37.121340Z"
    }
   },
   "outputs": [
    {
     "data": {
      "image/png": "[encoded data removed]",
      "text/plain": [
       "<Figure size 1000x600 with 1 Axes>"
      ]
     },
     "metadata": {},
     "output_type": "display_data"
    }
   ],
   "source": [
    "# Plotting barplot using groupby method to get visualization of how many row no. in each cluster\n",
    "\n",
    "fig, ax = plt.subplots(figsize=(10, 6))\n",
    "airline.groupby(['clustersid_s2']).count()['ID'].plot(kind='bar')\n",
    "plt.ylabel('ID Counts')\n",
    "plt.title('Hierarchical Clustering',fontsize='large',fontweight='bold')\n",
    "ax.set_xlabel('Clusters', fontsize='large', fontweight='bold')\n",
    "ax.set_ylabel('ID counts', fontsize='large', fontweight='bold')\n",
    "plt.yticks(fontsize=15)\n",
    "plt.xticks(fontsize=15)\n",
    "plt.show()"
   ]
  },
  {
   "cell_type": "code",
   "execution_count": 41,
   "id": "ea0deffc",
   "metadata": {
    "ExecuteTime": {
     "end_time": "2023-02-04T03:24:41.059884Z",
     "start_time": "2023-02-04T03:24:41.014753Z"
    }
   },
   "outputs": [
    {
     "data": {
      "text/html": [
       "<div>\n",
       "<style scoped>\n",
       "    .dataframe tbody tr th:only-of-type {\n",
       "        vertical-align: middle;\n",
       "    }\n",
       "\n",
       "    .dataframe tbody tr th {\n",
       "        vertical-align: top;\n",
       "    }\n",
       "\n",
       "    .dataframe thead tr th {\n",
       "        text-align: left;\n",
       "    }\n",
       "</style>\n",
       "<table border=\"1\" class=\"dataframe\">\n",
       "  <thead>\n",
       "    <tr>\n",
       "      <th></th>\n",
       "      <th>clustersid_s1</th>\n",
       "      <th>Balance</th>\n",
       "      <th>Qual_miles</th>\n",
       "      <th>cc1_miles</th>\n",
       "      <th>cc2_miles</th>\n",
       "      <th>cc3_miles</th>\n",
       "      <th>Bonus_miles</th>\n",
       "      <th>Bonus_trans</th>\n",
       "      <th>Flight_miles_12mo</th>\n",
       "      <th>Flight_trans_12</th>\n",
       "      <th>Days_since_enroll</th>\n",
       "      <th>Award</th>\n",
       "      <th>clustersid_s2</th>\n",
       "    </tr>\n",
       "    <tr>\n",
       "      <th></th>\n",
       "      <th></th>\n",
       "      <th>mean</th>\n",
       "      <th>mean</th>\n",
       "      <th>mean</th>\n",
       "      <th>mean</th>\n",
       "      <th>mean</th>\n",
       "      <th>mean</th>\n",
       "      <th>mean</th>\n",
       "      <th>mean</th>\n",
       "      <th>mean</th>\n",
       "      <th>mean</th>\n",
       "      <th>mean</th>\n",
       "      <th>mean</th>\n",
       "    </tr>\n",
       "  </thead>\n",
       "  <tbody>\n",
       "    <tr>\n",
       "      <th>0</th>\n",
       "      <td>0</td>\n",
       "      <td>79848.233615</td>\n",
       "      <td>285.097252</td>\n",
       "      <td>1.699789</td>\n",
       "      <td>1.024313</td>\n",
       "      <td>1.000000</td>\n",
       "      <td>12079.774841</td>\n",
       "      <td>12.133192</td>\n",
       "      <td>781.939746</td>\n",
       "      <td>2.369979</td>\n",
       "      <td>4372.173362</td>\n",
       "      <td>1.0</td>\n",
       "      <td>0.627907</td>\n",
       "    </tr>\n",
       "    <tr>\n",
       "      <th>1</th>\n",
       "      <td>1</td>\n",
       "      <td>43313.653808</td>\n",
       "      <td>21.506429</td>\n",
       "      <td>1.000000</td>\n",
       "      <td>1.033630</td>\n",
       "      <td>1.000989</td>\n",
       "      <td>2562.614243</td>\n",
       "      <td>5.474777</td>\n",
       "      <td>169.510386</td>\n",
       "      <td>0.523244</td>\n",
       "      <td>4940.680514</td>\n",
       "      <td>0.0</td>\n",
       "      <td>1.044510</td>\n",
       "    </tr>\n",
       "    <tr>\n",
       "      <th>2</th>\n",
       "      <td>2</td>\n",
       "      <td>106221.111386</td>\n",
       "      <td>161.262376</td>\n",
       "      <td>3.198020</td>\n",
       "      <td>1.001238</td>\n",
       "      <td>1.025990</td>\n",
       "      <td>26458.257426</td>\n",
       "      <td>16.363861</td>\n",
       "      <td>198.733911</td>\n",
       "      <td>0.558168</td>\n",
       "      <td>4367.250000</td>\n",
       "      <td>0.0</td>\n",
       "      <td>0.507426</td>\n",
       "    </tr>\n",
       "    <tr>\n",
       "      <th>3</th>\n",
       "      <td>3</td>\n",
       "      <td>127475.028037</td>\n",
       "      <td>160.801869</td>\n",
       "      <td>4.362617</td>\n",
       "      <td>1.000000</td>\n",
       "      <td>1.050467</td>\n",
       "      <td>58656.919626</td>\n",
       "      <td>22.235514</td>\n",
       "      <td>991.110280</td>\n",
       "      <td>3.005607</td>\n",
       "      <td>5072.226168</td>\n",
       "      <td>1.0</td>\n",
       "      <td>0.261682</td>\n",
       "    </tr>\n",
       "    <tr>\n",
       "      <th>4</th>\n",
       "      <td>4</td>\n",
       "      <td>30013.416309</td>\n",
       "      <td>98.054363</td>\n",
       "      <td>1.000000</td>\n",
       "      <td>1.000000</td>\n",
       "      <td>1.000000</td>\n",
       "      <td>2552.569385</td>\n",
       "      <td>6.101574</td>\n",
       "      <td>340.274678</td>\n",
       "      <td>0.948498</td>\n",
       "      <td>1568.864092</td>\n",
       "      <td>0.0</td>\n",
       "      <td>1.011445</td>\n",
       "    </tr>\n",
       "  </tbody>\n",
       "</table>\n",
       "</div>"
      ],
      "text/plain": [
       "  clustersid_s1        Balance  Qual_miles cc1_miles cc2_miles cc3_miles  \\\n",
       "                          mean        mean      mean      mean      mean   \n",
       "0             0   79848.233615  285.097252  1.699789  1.024313  1.000000   \n",
       "1             1   43313.653808   21.506429  1.000000  1.033630  1.000989   \n",
       "2             2  106221.111386  161.262376  3.198020  1.001238  1.025990   \n",
       "3             3  127475.028037  160.801869  4.362617  1.000000  1.050467   \n",
       "4             4   30013.416309   98.054363  1.000000  1.000000  1.000000   \n",
       "\n",
       "    Bonus_miles Bonus_trans Flight_miles_12mo Flight_trans_12  \\\n",
       "           mean        mean              mean            mean   \n",
       "0  12079.774841   12.133192        781.939746        2.369979   \n",
       "1   2562.614243    5.474777        169.510386        0.523244   \n",
       "2  26458.257426   16.363861        198.733911        0.558168   \n",
       "3  58656.919626   22.235514        991.110280        3.005607   \n",
       "4   2552.569385    6.101574        340.274678        0.948498   \n",
       "\n",
       "  Days_since_enroll Award clustersid_s2  \n",
       "               mean  mean          mean  \n",
       "0       4372.173362   1.0      0.627907  \n",
       "1       4940.680514   0.0      1.044510  \n",
       "2       4367.250000   0.0      0.507426  \n",
       "3       5072.226168   1.0      0.261682  \n",
       "4       1568.864092   0.0      1.011445  "
      ]
     },
     "execution_count": 41,
     "metadata": {},
     "output_type": "execute_result"
    }
   ],
   "source": [
    "airline1.groupby('clustersid_s1').agg(['mean']).reset_index()"
   ]
  },
  {
   "cell_type": "code",
   "execution_count": 42,
   "id": "c29e0533",
   "metadata": {
    "ExecuteTime": {
     "end_time": "2023-02-04T03:24:44.026145Z",
     "start_time": "2023-02-04T03:24:43.778443Z"
    }
   },
   "outputs": [
    {
     "data": {
      "text/plain": [
       "0.3098805307874414"
      ]
     },
     "execution_count": 42,
     "metadata": {},
     "output_type": "execute_result"
    }
   ],
   "source": [
    "# silhouette_score of AgglomerativeClustering\n",
    "\n",
    "sil_score= silhouette_score(scaler2_df, H_clusters.labels_)\n",
    "sil_score"
   ]
  },
  {
   "cell_type": "markdown",
   "id": "22b70431",
   "metadata": {},
   "source": [
    "\n",
    "# K-MEANS Clustering"
   ]
  },
  {
   "cell_type": "code",
   "execution_count": 43,
   "id": "32d3cc1e",
   "metadata": {
    "ExecuteTime": {
     "end_time": "2023-02-04T03:24:48.931641Z",
     "start_time": "2023-02-04T03:24:48.917663Z"
    }
   },
   "outputs": [],
   "source": [
    "# Import Library\n",
    "from sklearn.cluster import KMeans"
   ]
  },
  {
   "cell_type": "code",
   "execution_count": 44,
   "id": "83412b76",
   "metadata": {
    "ExecuteTime": {
     "end_time": "2023-02-04T03:24:51.108984Z",
     "start_time": "2023-02-04T03:24:51.100195Z"
    }
   },
   "outputs": [],
   "source": [
    "scaler1 = MinMaxScaler()\n",
    "scaler2 = StandardScaler()"
   ]
  },
  {
   "cell_type": "code",
   "execution_count": 45,
   "id": "f6439030",
   "metadata": {
    "ExecuteTime": {
     "end_time": "2023-02-04T03:24:53.745588Z",
     "start_time": "2023-02-04T03:24:53.727421Z"
    }
   },
   "outputs": [
    {
     "name": "stdout",
     "output_type": "stream",
     "text": [
      "[[0.01650773 0.         0.         ... 0.         0.25       0.25      ]\n",
      " [0.01128788 0.         0.         ... 0.         0.25       0.25      ]\n",
      " [0.02425685 0.         0.         ... 0.         0.25       0.25      ]\n",
      " ...\n",
      " [0.0431695  0.         0.5        ... 1.         0.         0.        ]\n",
      " [0.03220189 0.         0.         ... 0.         1.         0.25      ]\n",
      " [0.00176908 0.         0.         ... 0.         1.         0.25      ]]\n",
      "\n",
      "\n",
      "[[-4.51140783e-01 -1.86298687e-01 -7.69578406e-01 ... -7.66919299e-01\n",
      "  -5.39219215e-01  4.41786398e-01]\n",
      " [-5.39456874e-01 -1.86298687e-01 -7.69578406e-01 ... -7.66919299e-01\n",
      "  -5.39219215e-01  4.41786398e-01]\n",
      " [-3.20031232e-01 -1.86298687e-01 -7.69578406e-01 ... -7.66919299e-01\n",
      "  -5.39219215e-01  4.41786398e-01]\n",
      " ...\n",
      " [-4.29480975e-05 -1.86298687e-01  6.83121167e-01 ...  1.30391816e+00\n",
      "  -1.25111675e+00 -1.17607423e+00]\n",
      " [-1.85606976e-01 -1.86298687e-01 -7.69578406e-01 ... -7.66919299e-01\n",
      "   1.59647340e+00  4.41786398e-01]\n",
      " [-7.00507951e-01 -1.86298687e-01 -7.69578406e-01 ... -7.66919299e-01\n",
      "   1.59647340e+00  4.41786398e-01]]\n"
     ]
    }
   ],
   "source": [
    "# Normalizing Dataset\n",
    "scaler1_df = scaler1.fit_transform(airline1)\n",
    "print(scaler1_df)\n",
    "\n",
    "print('\\n')\n",
    "\n",
    "scaler2_df = scaler2.fit_transform(airline1)\n",
    "print(scaler2_df)"
   ]
  },
  {
   "cell_type": "code",
   "execution_count": 46,
   "id": "33f762d0",
   "metadata": {
    "ExecuteTime": {
     "end_time": "2023-02-04T03:24:58.203593Z",
     "start_time": "2023-02-04T03:24:57.147396Z"
    }
   },
   "outputs": [
    {
     "data": {
      "image/png": "[encoded data removed]",
      "text/plain": [
       "<Figure size 640x480 with 1 Axes>"
      ]
     },
     "metadata": {},
     "output_type": "display_data"
    }
   ],
   "source": [
    "# Using data normalized by MinMaxScaler\n",
    "wcss = []\n",
    "for i in range(1, 11):\n",
    "    kmeans = KMeans(n_clusters=i,random_state=0)\n",
    "    kmeans.fit(scaler1_df)\n",
    "    wcss.append(kmeans.inertia_)\n",
    "    \n",
    "plt.plot(range(1, 11), wcss)\n",
    "plt.title('Elbow Method')\n",
    "plt.xlabel('Number of clusters')\n",
    "plt.ylabel('WCSS')\n",
    "plt.show()"
   ]
  },
  {
   "cell_type": "code",
   "execution_count": 47,
   "id": "c73434b1",
   "metadata": {
    "ExecuteTime": {
     "end_time": "2023-02-04T03:25:02.243468Z",
     "start_time": "2023-02-04T03:25:01.081699Z"
    }
   },
   "outputs": [
    {
     "data": {
      "image/png": "[encoded data removed]",
      "text/plain": [
       "<Figure size 640x480 with 1 Axes>"
      ]
     },
     "metadata": {},
     "output_type": "display_data"
    }
   ],
   "source": [
    "# Using data normalized by StandardScaler\n",
    "wcss = []\n",
    "for i in range(1, 11):\n",
    "    kmeans = KMeans(n_clusters=i,random_state=0)\n",
    "    kmeans.fit(scaler2_df)\n",
    "    wcss.append(kmeans.inertia_)\n",
    "    \n",
    "plt.plot(range(1, 11), wcss)\n",
    "plt.title('Elbow Method')\n",
    "plt.xlabel('Number of clusters')\n",
    "plt.ylabel('WCSS')\n",
    "plt.show()\n"
   ]
  },
  {
   "cell_type": "markdown",
   "id": "72217028",
   "metadata": {},
   "source": [
    "### From above two plots, optimum number of clusters can be selected equal to 5"
   ]
  },
  {
   "cell_type": "code",
   "execution_count": 48,
   "id": "62423b9c",
   "metadata": {
    "ExecuteTime": {
     "end_time": "2023-02-04T03:25:10.512513Z",
     "start_time": "2023-02-04T03:25:09.872855Z"
    }
   },
   "outputs": [
    {
     "name": "stdout",
     "output_type": "stream",
     "text": [
      "Silhouette Score for data normalized by MinMaxScaler:  0.5578853150250931\n",
      "Silhouette Score for data normalized by StandardScaler:  0.3294874511326423\n"
     ]
    }
   ],
   "source": [
    "#Build Cluster algorithm\n",
    "\n",
    "\n",
    "# Using data normalized by MinMaxScaler\n",
    "clusters_new1 = KMeans(5, random_state=42)\n",
    "clusters_new1.fit(scaler1_df)\n",
    "\n",
    "sil_score= silhouette_score(scaler1_df, clusters_new1.labels_)\n",
    "print('Silhouette Score for data normalized by MinMaxScaler: ',sil_score)\n",
    "\n",
    "# Using data normalized by StandardScaler\n",
    "clusters_new2 = KMeans(5, random_state=42)\n",
    "clusters_new2.fit(scaler2_df)\n",
    "\n",
    "sil_score= silhouette_score(scaler2_df, clusters_new2.labels_)\n",
    "print('Silhouette Score for data normalized by StandardScaler: ',sil_score)"
   ]
  },
  {
   "cell_type": "code",
   "execution_count": 49,
   "id": "e4bcf9e9",
   "metadata": {
    "ExecuteTime": {
     "end_time": "2023-02-04T03:25:13.227284Z",
     "start_time": "2023-02-04T03:25:13.206007Z"
    }
   },
   "outputs": [],
   "source": [
    "#Assign clusters to the data set\n",
    "airline['clusterid_Kmeans'] = clusters_new1.labels_\n",
    "airline1['clusterid_Kmeans'] = clusters_new1.labels_"
   ]
  },
  {
   "cell_type": "code",
   "execution_count": 50,
   "id": "0957586a",
   "metadata": {
    "ExecuteTime": {
     "end_time": "2023-02-04T03:25:18.651067Z",
     "start_time": "2023-02-04T03:25:18.577465Z"
    }
   },
   "outputs": [
    {
     "data": {
      "text/plain": [
       "1    1194\n",
       "0     948\n",
       "3     699\n",
       "4     625\n",
       "2     533\n",
       "Name: clusterid_Kmeans, dtype: int64"
      ]
     },
     "execution_count": 50,
     "metadata": {},
     "output_type": "execute_result"
    }
   ],
   "source": [
    "y=pd.DataFrame(clusters_new1.fit_predict(scaler1_df),columns=['clusterid_Kmeans'])\n",
    "y['clusterid_Kmeans'].value_counts()"
   ]
  },
  {
   "cell_type": "code",
   "execution_count": 51,
   "id": "401f5591",
   "metadata": {
    "ExecuteTime": {
     "end_time": "2023-02-04T03:25:21.413048Z",
     "start_time": "2023-02-04T03:25:21.290104Z"
    }
   },
   "outputs": [
    {
     "data": {
      "image/png": "[encoded data removed]",
      "text/plain": [
       "<Figure size 1000x600 with 1 Axes>"
      ]
     },
     "metadata": {},
     "output_type": "display_data"
    }
   ],
   "source": [
    "# Plotting barplot using groupby method to get visualization of how many row no. in each cluster\n",
    "\n",
    "fig, ax = plt.subplots(figsize=(10, 6))\n",
    "airline.groupby(['clusterid_Kmeans']).count()['ID'].plot(kind='bar')\n",
    "plt.ylabel('ID Counts')\n",
    "plt.title('Hierarchical Clustering',fontsize='large',fontweight='bold')\n",
    "ax.set_xlabel('Clusters', fontsize='large', fontweight='bold')\n",
    "ax.set_ylabel('ID counts', fontsize='large', fontweight='bold')\n",
    "plt.yticks(fontsize=15)\n",
    "plt.xticks(fontsize=15)\n",
    "plt.show()"
   ]
  },
  {
   "cell_type": "code",
   "execution_count": 52,
   "id": "533cb7d9",
   "metadata": {
    "ExecuteTime": {
     "end_time": "2023-02-04T03:25:24.843821Z",
     "start_time": "2023-02-04T03:25:24.797197Z"
    }
   },
   "outputs": [
    {
     "data": {
      "text/html": [
       "<div>\n",
       "<style scoped>\n",
       "    .dataframe tbody tr th:only-of-type {\n",
       "        vertical-align: middle;\n",
       "    }\n",
       "\n",
       "    .dataframe tbody tr th {\n",
       "        vertical-align: top;\n",
       "    }\n",
       "\n",
       "    .dataframe thead tr th {\n",
       "        text-align: left;\n",
       "    }\n",
       "</style>\n",
       "<table border=\"1\" class=\"dataframe\">\n",
       "  <thead>\n",
       "    <tr>\n",
       "      <th></th>\n",
       "      <th>clusterid_Kmeans</th>\n",
       "      <th>Balance</th>\n",
       "      <th>Qual_miles</th>\n",
       "      <th>cc1_miles</th>\n",
       "      <th>cc2_miles</th>\n",
       "      <th>cc3_miles</th>\n",
       "      <th>Bonus_miles</th>\n",
       "      <th>Bonus_trans</th>\n",
       "      <th>Flight_miles_12mo</th>\n",
       "      <th>Flight_trans_12</th>\n",
       "      <th>Days_since_enroll</th>\n",
       "      <th>Award</th>\n",
       "      <th>clustersid_s1</th>\n",
       "      <th>clustersid_s2</th>\n",
       "    </tr>\n",
       "    <tr>\n",
       "      <th></th>\n",
       "      <th></th>\n",
       "      <th>mean</th>\n",
       "      <th>mean</th>\n",
       "      <th>mean</th>\n",
       "      <th>mean</th>\n",
       "      <th>mean</th>\n",
       "      <th>mean</th>\n",
       "      <th>mean</th>\n",
       "      <th>mean</th>\n",
       "      <th>mean</th>\n",
       "      <th>mean</th>\n",
       "      <th>mean</th>\n",
       "      <th>mean</th>\n",
       "      <th>mean</th>\n",
       "    </tr>\n",
       "  </thead>\n",
       "  <tbody>\n",
       "    <tr>\n",
       "      <th>0</th>\n",
       "      <td>0</td>\n",
       "      <td>80071.828059</td>\n",
       "      <td>276.433544</td>\n",
       "      <td>1.694093</td>\n",
       "      <td>1.024262</td>\n",
       "      <td>1.002110</td>\n",
       "      <td>12186.982068</td>\n",
       "      <td>12.262658</td>\n",
       "      <td>827.800633</td>\n",
       "      <td>2.483122</td>\n",
       "      <td>4367.631857</td>\n",
       "      <td>1.0</td>\n",
       "      <td>0.009494</td>\n",
       "      <td>0.635021</td>\n",
       "    </tr>\n",
       "    <tr>\n",
       "      <th>1</th>\n",
       "      <td>1</td>\n",
       "      <td>46926.743719</td>\n",
       "      <td>77.376884</td>\n",
       "      <td>1.144054</td>\n",
       "      <td>1.028476</td>\n",
       "      <td>1.006700</td>\n",
       "      <td>3747.433836</td>\n",
       "      <td>6.634003</td>\n",
       "      <td>159.219430</td>\n",
       "      <td>0.485762</td>\n",
       "      <td>4834.253769</td>\n",
       "      <td>0.0</td>\n",
       "      <td>1.153266</td>\n",
       "      <td>1.032663</td>\n",
       "    </tr>\n",
       "    <tr>\n",
       "      <th>2</th>\n",
       "      <td>2</td>\n",
       "      <td>127256.052533</td>\n",
       "      <td>175.744841</td>\n",
       "      <td>4.382739</td>\n",
       "      <td>1.000000</td>\n",
       "      <td>1.046904</td>\n",
       "      <td>58641.013133</td>\n",
       "      <td>22.043152</td>\n",
       "      <td>910.326454</td>\n",
       "      <td>2.806754</td>\n",
       "      <td>5082.930582</td>\n",
       "      <td>1.0</td>\n",
       "      <td>2.994371</td>\n",
       "      <td>0.247655</td>\n",
       "    </tr>\n",
       "    <tr>\n",
       "      <th>3</th>\n",
       "      <td>3</td>\n",
       "      <td>30013.416309</td>\n",
       "      <td>98.054363</td>\n",
       "      <td>1.000000</td>\n",
       "      <td>1.000000</td>\n",
       "      <td>1.000000</td>\n",
       "      <td>2552.569385</td>\n",
       "      <td>6.101574</td>\n",
       "      <td>340.274678</td>\n",
       "      <td>0.948498</td>\n",
       "      <td>1568.864092</td>\n",
       "      <td>0.0</td>\n",
       "      <td>4.000000</td>\n",
       "      <td>1.011445</td>\n",
       "    </tr>\n",
       "    <tr>\n",
       "      <th>4</th>\n",
       "      <td>4</td>\n",
       "      <td>117737.968000</td>\n",
       "      <td>95.448000</td>\n",
       "      <td>3.566400</td>\n",
       "      <td>1.001600</td>\n",
       "      <td>1.022400</td>\n",
       "      <td>31191.422400</td>\n",
       "      <td>17.337600</td>\n",
       "      <td>226.950400</td>\n",
       "      <td>0.640000</td>\n",
       "      <td>4402.667200</td>\n",
       "      <td>0.0</td>\n",
       "      <td>2.000000</td>\n",
       "      <td>0.372800</td>\n",
       "    </tr>\n",
       "  </tbody>\n",
       "</table>\n",
       "</div>"
      ],
      "text/plain": [
       "  clusterid_Kmeans        Balance  Qual_miles cc1_miles cc2_miles cc3_miles  \\\n",
       "                             mean        mean      mean      mean      mean   \n",
       "0                0   80071.828059  276.433544  1.694093  1.024262  1.002110   \n",
       "1                1   46926.743719   77.376884  1.144054  1.028476  1.006700   \n",
       "2                2  127256.052533  175.744841  4.382739  1.000000  1.046904   \n",
       "3                3   30013.416309   98.054363  1.000000  1.000000  1.000000   \n",
       "4                4  117737.968000   95.448000  3.566400  1.001600  1.022400   \n",
       "\n",
       "    Bonus_miles Bonus_trans Flight_miles_12mo Flight_trans_12  \\\n",
       "           mean        mean              mean            mean   \n",
       "0  12186.982068   12.262658        827.800633        2.483122   \n",
       "1   3747.433836    6.634003        159.219430        0.485762   \n",
       "2  58641.013133   22.043152        910.326454        2.806754   \n",
       "3   2552.569385    6.101574        340.274678        0.948498   \n",
       "4  31191.422400   17.337600        226.950400        0.640000   \n",
       "\n",
       "  Days_since_enroll Award clustersid_s1 clustersid_s2  \n",
       "               mean  mean          mean          mean  \n",
       "0       4367.631857   1.0      0.009494      0.635021  \n",
       "1       4834.253769   0.0      1.153266      1.032663  \n",
       "2       5082.930582   1.0      2.994371      0.247655  \n",
       "3       1568.864092   0.0      4.000000      1.011445  \n",
       "4       4402.667200   0.0      2.000000      0.372800  "
      ]
     },
     "execution_count": 52,
     "metadata": {},
     "output_type": "execute_result"
    }
   ],
   "source": [
    "airline1.groupby('clusterid_Kmeans').agg(['mean']).reset_index()"
   ]
  },
  {
   "cell_type": "code",
   "execution_count": 53,
   "id": "e9af7e0a",
   "metadata": {
    "ExecuteTime": {
     "end_time": "2023-02-04T03:25:27.975429Z",
     "start_time": "2023-02-04T03:25:27.956834Z"
    }
   },
   "outputs": [
    {
     "data": {
      "text/plain": [
       "[51987.000000000015,\n",
       " 42033.582787767125,\n",
       " 36293.89264949162,\n",
       " 32378.267642186074,\n",
       " 28354.5113910595,\n",
       " 24590.22267809841,\n",
       " 21874.98981100038,\n",
       " 19257.778613844708,\n",
       " 17897.135033480383,\n",
       " 16658.222688238355]"
      ]
     },
     "execution_count": 53,
     "metadata": {},
     "output_type": "execute_result"
    }
   ],
   "source": [
    "wcss"
   ]
  },
  {
   "cell_type": "markdown",
   "id": "c9c9b550",
   "metadata": {},
   "source": [
    "\n",
    "\n",
    "\n",
    "\n",
    "# DBSCAN"
   ]
  },
  {
   "cell_type": "code",
   "execution_count": 54,
   "id": "d24e9487",
   "metadata": {
    "ExecuteTime": {
     "end_time": "2023-02-04T03:25:33.036829Z",
     "start_time": "2023-02-04T03:25:33.025359Z"
    }
   },
   "outputs": [],
   "source": [
    "from sklearn.cluster import DBSCAN\n",
    "from sklearn.neighbors import NearestNeighbors  "
   ]
  },
  {
   "cell_type": "code",
   "execution_count": 55,
   "id": "96d8dec8",
   "metadata": {
    "ExecuteTime": {
     "end_time": "2023-02-04T03:25:38.074214Z",
     "start_time": "2023-02-04T03:25:38.056900Z"
    }
   },
   "outputs": [
    {
     "name": "stdout",
     "output_type": "stream",
     "text": [
      "[[0.01650773 0.         0.         ... 0.25       0.25       0.25      ]\n",
      " [0.01128788 0.         0.         ... 0.25       0.25       0.25      ]\n",
      " [0.02425685 0.         0.         ... 0.25       0.25       0.25      ]\n",
      " ...\n",
      " [0.0431695  0.         0.5        ... 0.         0.         0.        ]\n",
      " [0.03220189 0.         0.         ... 1.         0.25       0.75      ]\n",
      " [0.00176908 0.         0.         ... 1.         0.25       0.75      ]]\n"
     ]
    }
   ],
   "source": [
    "# Normalizing data using MinMaxScaler\n",
    "scaler1_df = scaler1.fit_transform(airline1)\n",
    "print(scaler1_df)"
   ]
  },
  {
   "cell_type": "code",
   "execution_count": 66,
   "id": "26a903a7",
   "metadata": {
    "ExecuteTime": {
     "end_time": "2023-02-04T03:27:51.124865Z",
     "start_time": "2023-02-04T03:27:50.997873Z"
    }
   },
   "outputs": [],
   "source": [
    "neigh = NearestNeighbors(n_neighbors=8)\n",
    "nbrs = neigh.fit(scaler1_df)\n",
    "distances, indices = nbrs.kneighbors(scaler1_df)  "
   ]
  },
  {
   "cell_type": "code",
   "execution_count": 67,
   "id": "a39da285",
   "metadata": {
    "ExecuteTime": {
     "end_time": "2023-02-04T03:27:54.497594Z",
     "start_time": "2023-02-04T03:27:54.392208Z"
    }
   },
   "outputs": [
    {
     "data": {
      "text/plain": [
       "[<matplotlib.lines.Line2D at 0x15158a6d580>]"
      ]
     },
     "execution_count": 67,
     "metadata": {},
     "output_type": "execute_result"
    },
    {
     "data": {
      "image/png": "[encoded data removed]",
      "text/plain": [
       "<Figure size 640x480 with 1 Axes>"
      ]
     },
     "metadata": {},
     "output_type": "display_data"
    }
   ],
   "source": [
    "distances = np.sort(distances, axis=0)\n",
    "distances = distances[:,1]\n",
    "plt.plot(distances)  "
   ]
  },
  {
   "cell_type": "markdown",
   "id": "4c2fcd85",
   "metadata": {},
   "source": [
    "### We will try for different values of eps and min samples"
   ]
  },
  {
   "cell_type": "code",
   "execution_count": 58,
   "id": "e0d71075",
   "metadata": {
    "ExecuteTime": {
     "end_time": "2023-02-04T03:26:42.028753Z",
     "start_time": "2023-02-04T03:26:41.433249Z"
    }
   },
   "outputs": [
    {
     "data": {
      "text/plain": [
       "DBSCAN(eps=1, min_samples=12)"
      ]
     },
     "execution_count": 58,
     "metadata": {},
     "output_type": "execute_result"
    }
   ],
   "source": [
    "# Using data normalized by MinMaxScaler\n",
    "dbscan = DBSCAN(eps=1, min_samples=12)\n",
    "dbscan.fit(scaler1_df)"
   ]
  },
  {
   "cell_type": "code",
   "execution_count": 59,
   "id": "64ba06a4",
   "metadata": {
    "ExecuteTime": {
     "end_time": "2023-02-04T03:26:44.644826Z",
     "start_time": "2023-02-04T03:26:44.624827Z"
    }
   },
   "outputs": [
    {
     "data": {
      "text/plain": [
       "array([0, 0, 0, ..., 1, 0, 0], dtype=int64)"
      ]
     },
     "execution_count": 59,
     "metadata": {},
     "output_type": "execute_result"
    }
   ],
   "source": [
    "#Noisy samples are given the label -1.\n",
    "dbscan.labels_"
   ]
  },
  {
   "cell_type": "code",
   "execution_count": 60,
   "id": "1c6d6935",
   "metadata": {
    "ExecuteTime": {
     "end_time": "2023-02-04T03:26:48.639591Z",
     "start_time": "2023-02-04T03:26:48.023386Z"
    }
   },
   "outputs": [
    {
     "data": {
      "text/plain": [
       " 0    2518\n",
       " 1    1479\n",
       "-1       2\n",
       "Name: clusterid_DBSCAN, dtype: int64"
      ]
     },
     "execution_count": 60,
     "metadata": {},
     "output_type": "execute_result"
    }
   ],
   "source": [
    "y = pd.DataFrame(dbscan.fit_predict(scaler1_df),columns=['clusterid_DBSCAN'])\n",
    "y['clusterid_DBSCAN'].value_counts()"
   ]
  },
  {
   "cell_type": "code",
   "execution_count": 61,
   "id": "b40d71aa",
   "metadata": {
    "ExecuteTime": {
     "end_time": "2023-02-04T03:26:54.082351Z",
     "start_time": "2023-02-04T03:26:53.821669Z"
    }
   },
   "outputs": [
    {
     "data": {
      "text/plain": [
       "0.4351796533177913"
      ]
     },
     "execution_count": 61,
     "metadata": {},
     "output_type": "execute_result"
    }
   ],
   "source": [
    "# silhouette score\n",
    "sil_score= silhouette_score(scaler1_df, dbscan.labels_)\n",
    "sil_score"
   ]
  },
  {
   "cell_type": "code",
   "execution_count": 62,
   "id": "e90107f6",
   "metadata": {
    "ExecuteTime": {
     "end_time": "2023-02-04T03:26:58.298845Z",
     "start_time": "2023-02-04T03:26:56.893537Z"
    }
   },
   "outputs": [
    {
     "name": "stdout",
     "output_type": "stream",
     "text": [
      " 0    2514\n",
      " 2     946\n",
      " 1     531\n",
      "-1       8\n",
      "Name: clusterid_DBSCAN, dtype: int64\n",
      "silhouette score:  0.46555408376042645\n"
     ]
    }
   ],
   "source": [
    "# for epsilon = 0.8\n",
    "dbscan1 = DBSCAN(eps=0.8, min_samples=12)\n",
    "dbscan1.fit(scaler1_df)\n",
    "\n",
    "y=pd.DataFrame(dbscan1.fit_predict(scaler1_df),columns=['clusterid_DBSCAN'])\n",
    "print(y['clusterid_DBSCAN'].value_counts())\n",
    "\n",
    "# silhouette score\n",
    "sil_score= silhouette_score(scaler1_df, dbscan1.labels_)\n",
    "print('silhouette score: ',sil_score)"
   ]
  },
  {
   "cell_type": "code",
   "execution_count": 63,
   "id": "6eb705ac",
   "metadata": {
    "ExecuteTime": {
     "end_time": "2023-02-04T03:27:02.613326Z",
     "start_time": "2023-02-04T03:27:01.420214Z"
    }
   },
   "outputs": [
    {
     "name": "stdout",
     "output_type": "stream",
     "text": [
      " 0    1191\n",
      " 3     942\n",
      " 4     699\n",
      " 2     618\n",
      " 1     523\n",
      "-1      26\n",
      "Name: clusterid_DBSCAN, dtype: int64\n",
      "silhouette score:  0.6261231990669098\n"
     ]
    }
   ],
   "source": [
    "# for epsilon = 0.6\n",
    "dbscan2 = DBSCAN(eps=0.6, min_samples=12)\n",
    "dbscan2.fit(scaler1_df)\n",
    "\n",
    "y=pd.DataFrame(dbscan2.fit_predict(scaler1_df),columns=['clusterid_DBSCAN'])\n",
    "print(y['clusterid_DBSCAN'].value_counts())\n",
    "\n",
    "# silhouette score\n",
    "sil_score= silhouette_score(scaler1_df, dbscan2.labels_)\n",
    "print('silhouette score: ',sil_score)"
   ]
  },
  {
   "cell_type": "markdown",
   "id": "b48e542d",
   "metadata": {},
   "source": [
    "### When we have value of epsilon = 0.6, we are getting 5 clusters with data less than 50% in one cluster and also, silhouette score is more as compared to other dbscan models.\n",
    "### -1 shows the noisy data points."
   ]
  },
  {
   "cell_type": "code",
   "execution_count": 68,
   "id": "cfb0174d",
   "metadata": {
    "ExecuteTime": {
     "end_time": "2023-02-04T03:27:59.345787Z",
     "start_time": "2023-02-04T03:27:59.325872Z"
    }
   },
   "outputs": [],
   "source": [
    "airline['clusterid_DBSCAN'] = dbscan2.labels_\n",
    "airline1['clusterid_DBSCAN'] = dbscan2.labels_"
   ]
  },
  {
   "cell_type": "code",
   "execution_count": 69,
   "id": "aa2880fd",
   "metadata": {
    "ExecuteTime": {
     "end_time": "2023-02-04T03:28:01.670073Z",
     "start_time": "2023-02-04T03:28:01.648966Z"
    }
   },
   "outputs": [
    {
     "data": {
      "text/html": [
       "<div>\n",
       "<style scoped>\n",
       "    .dataframe tbody tr th:only-of-type {\n",
       "        vertical-align: middle;\n",
       "    }\n",
       "\n",
       "    .dataframe tbody tr th {\n",
       "        vertical-align: top;\n",
       "    }\n",
       "\n",
       "    .dataframe thead th {\n",
       "        text-align: right;\n",
       "    }\n",
       "</style>\n",
       "<table border=\"1\" class=\"dataframe\">\n",
       "  <thead>\n",
       "    <tr style=\"text-align: right;\">\n",
       "      <th></th>\n",
       "      <th>ID</th>\n",
       "      <th>Balance</th>\n",
       "      <th>Qual_miles</th>\n",
       "      <th>cc1_miles</th>\n",
       "      <th>cc2_miles</th>\n",
       "      <th>cc3_miles</th>\n",
       "      <th>Bonus_miles</th>\n",
       "      <th>Bonus_trans</th>\n",
       "      <th>Flight_miles_12mo</th>\n",
       "      <th>Flight_trans_12</th>\n",
       "      <th>Days_since_enroll</th>\n",
       "      <th>Award</th>\n",
       "      <th>clustersid_s1</th>\n",
       "      <th>clustersid_s2</th>\n",
       "      <th>clusterid_Kmeans</th>\n",
       "      <th>clusterid_DBSCAN</th>\n",
       "    </tr>\n",
       "  </thead>\n",
       "  <tbody>\n",
       "    <tr>\n",
       "      <th>0</th>\n",
       "      <td>1</td>\n",
       "      <td>28143</td>\n",
       "      <td>0</td>\n",
       "      <td>1</td>\n",
       "      <td>1</td>\n",
       "      <td>1</td>\n",
       "      <td>174</td>\n",
       "      <td>1</td>\n",
       "      <td>0</td>\n",
       "      <td>0</td>\n",
       "      <td>7000</td>\n",
       "      <td>0</td>\n",
       "      <td>1</td>\n",
       "      <td>1</td>\n",
       "      <td>1</td>\n",
       "      <td>0</td>\n",
       "    </tr>\n",
       "    <tr>\n",
       "      <th>1</th>\n",
       "      <td>2</td>\n",
       "      <td>19244</td>\n",
       "      <td>0</td>\n",
       "      <td>1</td>\n",
       "      <td>1</td>\n",
       "      <td>1</td>\n",
       "      <td>215</td>\n",
       "      <td>2</td>\n",
       "      <td>0</td>\n",
       "      <td>0</td>\n",
       "      <td>6968</td>\n",
       "      <td>0</td>\n",
       "      <td>1</td>\n",
       "      <td>1</td>\n",
       "      <td>1</td>\n",
       "      <td>0</td>\n",
       "    </tr>\n",
       "    <tr>\n",
       "      <th>2</th>\n",
       "      <td>3</td>\n",
       "      <td>41354</td>\n",
       "      <td>0</td>\n",
       "      <td>1</td>\n",
       "      <td>1</td>\n",
       "      <td>1</td>\n",
       "      <td>4123</td>\n",
       "      <td>4</td>\n",
       "      <td>0</td>\n",
       "      <td>0</td>\n",
       "      <td>7034</td>\n",
       "      <td>0</td>\n",
       "      <td>1</td>\n",
       "      <td>1</td>\n",
       "      <td>1</td>\n",
       "      <td>0</td>\n",
       "    </tr>\n",
       "    <tr>\n",
       "      <th>3</th>\n",
       "      <td>4</td>\n",
       "      <td>14776</td>\n",
       "      <td>0</td>\n",
       "      <td>1</td>\n",
       "      <td>1</td>\n",
       "      <td>1</td>\n",
       "      <td>500</td>\n",
       "      <td>1</td>\n",
       "      <td>0</td>\n",
       "      <td>0</td>\n",
       "      <td>6952</td>\n",
       "      <td>0</td>\n",
       "      <td>1</td>\n",
       "      <td>1</td>\n",
       "      <td>1</td>\n",
       "      <td>0</td>\n",
       "    </tr>\n",
       "    <tr>\n",
       "      <th>4</th>\n",
       "      <td>5</td>\n",
       "      <td>97752</td>\n",
       "      <td>0</td>\n",
       "      <td>4</td>\n",
       "      <td>1</td>\n",
       "      <td>1</td>\n",
       "      <td>43300</td>\n",
       "      <td>26</td>\n",
       "      <td>2077</td>\n",
       "      <td>4</td>\n",
       "      <td>6935</td>\n",
       "      <td>1</td>\n",
       "      <td>3</td>\n",
       "      <td>0</td>\n",
       "      <td>2</td>\n",
       "      <td>1</td>\n",
       "    </tr>\n",
       "  </tbody>\n",
       "</table>\n",
       "</div>"
      ],
      "text/plain": [
       "   ID  Balance  Qual_miles  cc1_miles  cc2_miles  cc3_miles  Bonus_miles  \\\n",
       "0   1    28143           0          1          1          1          174   \n",
       "1   2    19244           0          1          1          1          215   \n",
       "2   3    41354           0          1          1          1         4123   \n",
       "3   4    14776           0          1          1          1          500   \n",
       "4   5    97752           0          4          1          1        43300   \n",
       "\n",
       "   Bonus_trans  Flight_miles_12mo  Flight_trans_12  Days_since_enroll  Award  \\\n",
       "0            1                  0                0               7000      0   \n",
       "1            2                  0                0               6968      0   \n",
       "2            4                  0                0               7034      0   \n",
       "3            1                  0                0               6952      0   \n",
       "4           26               2077                4               6935      1   \n",
       "\n",
       "   clustersid_s1  clustersid_s2  clusterid_Kmeans  clusterid_DBSCAN  \n",
       "0              1              1                 1                 0  \n",
       "1              1              1                 1                 0  \n",
       "2              1              1                 1                 0  \n",
       "3              1              1                 1                 0  \n",
       "4              3              0                 2                 1  "
      ]
     },
     "execution_count": 69,
     "metadata": {},
     "output_type": "execute_result"
    }
   ],
   "source": [
    "airline.head()"
   ]
  },
  {
   "cell_type": "code",
   "execution_count": 70,
   "id": "216b4a0e",
   "metadata": {
    "ExecuteTime": {
     "end_time": "2023-02-04T03:28:04.514447Z",
     "start_time": "2023-02-04T03:28:04.396244Z"
    }
   },
   "outputs": [
    {
     "data": {
      "image/png": "[encoded data removed]",
      "text/plain": [
       "<Figure size 1000x600 with 1 Axes>"
      ]
     },
     "metadata": {},
     "output_type": "display_data"
    }
   ],
   "source": [
    "# Plotting barplot using groupby method to get visualization of how many row no. in each cluster\n",
    "\n",
    "fig, ax = plt.subplots(figsize=(10, 6))\n",
    "airline.groupby(['clusterid_DBSCAN']).count()['ID'].plot(kind='bar')\n",
    "plt.ylabel('ID Counts')\n",
    "plt.title('Hierarchical Clustering',fontsize='large',fontweight='bold')\n",
    "ax.set_xlabel('Clusters', fontsize='large', fontweight='bold')\n",
    "ax.set_ylabel('ID counts', fontsize='large', fontweight='bold')\n",
    "plt.yticks(fontsize=15)\n",
    "plt.xticks(fontsize=15)\n",
    "plt.show()"
   ]
  },
  {
   "cell_type": "code",
   "execution_count": 71,
   "id": "c477ddee",
   "metadata": {
    "ExecuteTime": {
     "end_time": "2023-02-04T03:28:07.734412Z",
     "start_time": "2023-02-04T03:28:07.684328Z"
    }
   },
   "outputs": [
    {
     "data": {
      "text/html": [
       "<div>\n",
       "<style scoped>\n",
       "    .dataframe tbody tr th:only-of-type {\n",
       "        vertical-align: middle;\n",
       "    }\n",
       "\n",
       "    .dataframe tbody tr th {\n",
       "        vertical-align: top;\n",
       "    }\n",
       "\n",
       "    .dataframe thead tr th {\n",
       "        text-align: left;\n",
       "    }\n",
       "</style>\n",
       "<table border=\"1\" class=\"dataframe\">\n",
       "  <thead>\n",
       "    <tr>\n",
       "      <th></th>\n",
       "      <th>clusterid_DBSCAN</th>\n",
       "      <th>Balance</th>\n",
       "      <th>Qual_miles</th>\n",
       "      <th>cc1_miles</th>\n",
       "      <th>cc2_miles</th>\n",
       "      <th>cc3_miles</th>\n",
       "      <th>Bonus_miles</th>\n",
       "      <th>Bonus_trans</th>\n",
       "      <th>Flight_miles_12mo</th>\n",
       "      <th>Flight_trans_12</th>\n",
       "      <th>Days_since_enroll</th>\n",
       "      <th>Award</th>\n",
       "      <th>clustersid_s1</th>\n",
       "      <th>clustersid_s2</th>\n",
       "      <th>clusterid_Kmeans</th>\n",
       "    </tr>\n",
       "    <tr>\n",
       "      <th></th>\n",
       "      <th></th>\n",
       "      <th>mean</th>\n",
       "      <th>mean</th>\n",
       "      <th>mean</th>\n",
       "      <th>mean</th>\n",
       "      <th>mean</th>\n",
       "      <th>mean</th>\n",
       "      <th>mean</th>\n",
       "      <th>mean</th>\n",
       "      <th>mean</th>\n",
       "      <th>mean</th>\n",
       "      <th>mean</th>\n",
       "      <th>mean</th>\n",
       "      <th>mean</th>\n",
       "      <th>mean</th>\n",
       "    </tr>\n",
       "  </thead>\n",
       "  <tbody>\n",
       "    <tr>\n",
       "      <th>0</th>\n",
       "      <td>-1</td>\n",
       "      <td>201066.000000</td>\n",
       "      <td>457.500000</td>\n",
       "      <td>3.115385</td>\n",
       "      <td>1.076923</td>\n",
       "      <td>2.884615</td>\n",
       "      <td>78067.615385</td>\n",
       "      <td>30.692308</td>\n",
       "      <td>3216.730769</td>\n",
       "      <td>8.307692</td>\n",
       "      <td>4340.153846</td>\n",
       "      <td>0.615385</td>\n",
       "      <td>2.115385</td>\n",
       "      <td>3.230769</td>\n",
       "      <td>1.961538</td>\n",
       "    </tr>\n",
       "    <tr>\n",
       "      <th>1</th>\n",
       "      <td>0</td>\n",
       "      <td>46828.219144</td>\n",
       "      <td>77.571788</td>\n",
       "      <td>1.144416</td>\n",
       "      <td>1.028547</td>\n",
       "      <td>1.000000</td>\n",
       "      <td>3630.084803</td>\n",
       "      <td>6.623846</td>\n",
       "      <td>159.620487</td>\n",
       "      <td>0.486986</td>\n",
       "      <td>4836.767422</td>\n",
       "      <td>0.000000</td>\n",
       "      <td>1.151973</td>\n",
       "      <td>1.025189</td>\n",
       "      <td>1.000000</td>\n",
       "    </tr>\n",
       "    <tr>\n",
       "      <th>2</th>\n",
       "      <td>1</td>\n",
       "      <td>128144.883365</td>\n",
       "      <td>159.577438</td>\n",
       "      <td>4.384321</td>\n",
       "      <td>1.000000</td>\n",
       "      <td>1.000000</td>\n",
       "      <td>57731.363289</td>\n",
       "      <td>21.841300</td>\n",
       "      <td>878.879541</td>\n",
       "      <td>2.755258</td>\n",
       "      <td>5092.133843</td>\n",
       "      <td>1.000000</td>\n",
       "      <td>3.000000</td>\n",
       "      <td>0.187380</td>\n",
       "      <td>2.000000</td>\n",
       "    </tr>\n",
       "    <tr>\n",
       "      <th>3</th>\n",
       "      <td>2</td>\n",
       "      <td>116706.328479</td>\n",
       "      <td>96.529126</td>\n",
       "      <td>3.563107</td>\n",
       "      <td>1.000000</td>\n",
       "      <td>1.000000</td>\n",
       "      <td>30816.666667</td>\n",
       "      <td>17.226537</td>\n",
       "      <td>224.990291</td>\n",
       "      <td>0.634304</td>\n",
       "      <td>4406.014563</td>\n",
       "      <td>0.000000</td>\n",
       "      <td>2.000000</td>\n",
       "      <td>0.333333</td>\n",
       "      <td>4.000000</td>\n",
       "    </tr>\n",
       "    <tr>\n",
       "      <th>4</th>\n",
       "      <td>3</td>\n",
       "      <td>77715.415074</td>\n",
       "      <td>276.408705</td>\n",
       "      <td>1.696391</td>\n",
       "      <td>1.023355</td>\n",
       "      <td>1.000000</td>\n",
       "      <td>11875.373673</td>\n",
       "      <td>12.075372</td>\n",
       "      <td>774.384289</td>\n",
       "      <td>2.336518</td>\n",
       "      <td>4367.246285</td>\n",
       "      <td>1.000000</td>\n",
       "      <td>0.000000</td>\n",
       "      <td>0.627389</td>\n",
       "      <td>0.000000</td>\n",
       "    </tr>\n",
       "    <tr>\n",
       "      <th>5</th>\n",
       "      <td>4</td>\n",
       "      <td>30013.416309</td>\n",
       "      <td>98.054363</td>\n",
       "      <td>1.000000</td>\n",
       "      <td>1.000000</td>\n",
       "      <td>1.000000</td>\n",
       "      <td>2552.569385</td>\n",
       "      <td>6.101574</td>\n",
       "      <td>340.274678</td>\n",
       "      <td>0.948498</td>\n",
       "      <td>1568.864092</td>\n",
       "      <td>0.000000</td>\n",
       "      <td>4.000000</td>\n",
       "      <td>1.011445</td>\n",
       "      <td>3.000000</td>\n",
       "    </tr>\n",
       "  </tbody>\n",
       "</table>\n",
       "</div>"
      ],
      "text/plain": [
       "  clusterid_DBSCAN        Balance  Qual_miles cc1_miles cc2_miles cc3_miles  \\\n",
       "                             mean        mean      mean      mean      mean   \n",
       "0               -1  201066.000000  457.500000  3.115385  1.076923  2.884615   \n",
       "1                0   46828.219144   77.571788  1.144416  1.028547  1.000000   \n",
       "2                1  128144.883365  159.577438  4.384321  1.000000  1.000000   \n",
       "3                2  116706.328479   96.529126  3.563107  1.000000  1.000000   \n",
       "4                3   77715.415074  276.408705  1.696391  1.023355  1.000000   \n",
       "5                4   30013.416309   98.054363  1.000000  1.000000  1.000000   \n",
       "\n",
       "    Bonus_miles Bonus_trans Flight_miles_12mo Flight_trans_12  \\\n",
       "           mean        mean              mean            mean   \n",
       "0  78067.615385   30.692308       3216.730769        8.307692   \n",
       "1   3630.084803    6.623846        159.620487        0.486986   \n",
       "2  57731.363289   21.841300        878.879541        2.755258   \n",
       "3  30816.666667   17.226537        224.990291        0.634304   \n",
       "4  11875.373673   12.075372        774.384289        2.336518   \n",
       "5   2552.569385    6.101574        340.274678        0.948498   \n",
       "\n",
       "  Days_since_enroll     Award clustersid_s1 clustersid_s2 clusterid_Kmeans  \n",
       "               mean      mean          mean          mean             mean  \n",
       "0       4340.153846  0.615385      2.115385      3.230769         1.961538  \n",
       "1       4836.767422  0.000000      1.151973      1.025189         1.000000  \n",
       "2       5092.133843  1.000000      3.000000      0.187380         2.000000  \n",
       "3       4406.014563  0.000000      2.000000      0.333333         4.000000  \n",
       "4       4367.246285  1.000000      0.000000      0.627389         0.000000  \n",
       "5       1568.864092  0.000000      4.000000      1.011445         3.000000  "
      ]
     },
     "execution_count": 71,
     "metadata": {},
     "output_type": "execute_result"
    }
   ],
   "source": [
    "airline1.groupby('clusterid_DBSCAN').agg(['mean']).reset_index()"
   ]
  },
  {
   "cell_type": "code",
   "execution_count": null,
   "id": "06e04df1",
   "metadata": {},
   "outputs": [],
   "source": []
  }
 ],
 "metadata": {
  "kernelspec": {
   "display_name": "Python 3 (ipykernel)",
   "language": "python",
   "name": "python3"
  },
  "language_info": {
   "codemirror_mode": {
    "name": "ipython",
    "version": 3
   },
   "file_extension": ".py",
   "mimetype": "text/x-python",
   "name": "python",
   "nbconvert_exporter": "python",
   "pygments_lexer": "ipython3",
   "version": "3.9.13"
  }
 },
 "nbformat": 4,
 "nbformat_minor": 5
}
